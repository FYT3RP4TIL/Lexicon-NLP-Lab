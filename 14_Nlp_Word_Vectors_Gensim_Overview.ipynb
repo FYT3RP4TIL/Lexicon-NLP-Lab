{
 "cells": [
  {
   "cell_type": "markdown",
   "id": "33252ddf",
   "metadata": {},
   "source": [
    "<h3>NLP Tutorial: Word Vectors Overview Using Gensim Word Embedding Library</h3>"
   ]
  },
  {
   "cell_type": "code",
   "execution_count": 1,
   "id": "752c80e1-42f2-4387-84f5-89dd9d94e0a6",
   "metadata": {},
   "outputs": [
    {
     "name": "stdout",
     "output_type": "stream",
     "text": [
      "Defaulting to user installation because normal site-packages is not writeable\n",
      "Requirement already satisfied: gensim in c:\\programdata\\anaconda3\\lib\\site-packages (4.3.0)\n",
      "Requirement already satisfied: numpy>=1.18.5 in c:\\users\\sudhanshu\\appdata\\roaming\\python\\python311\\site-packages (from gensim) (1.26.3)\n",
      "Requirement already satisfied: scipy>=1.7.0 in c:\\programdata\\anaconda3\\lib\\site-packages (from gensim) (1.11.1)\n",
      "Requirement already satisfied: smart-open>=1.8.1 in c:\\programdata\\anaconda3\\lib\\site-packages (from gensim) (5.2.1)\n",
      "Collecting FuzzyTM>=0.4.0 (from gensim)\n",
      "  Obtaining dependency information for FuzzyTM>=0.4.0 from https://files.pythonhosted.org/packages/2d/30/074bac7a25866a2807c1005c7852c0139ac22ba837871fc01f16df29b9dc/FuzzyTM-2.0.9-py3-none-any.whl.metadata\n",
      "  Downloading FuzzyTM-2.0.9-py3-none-any.whl.metadata (7.9 kB)\n",
      "Requirement already satisfied: pandas in c:\\programdata\\anaconda3\\lib\\site-packages (from FuzzyTM>=0.4.0->gensim) (2.0.3)\n",
      "Collecting pyfume (from FuzzyTM>=0.4.0->gensim)\n",
      "  Obtaining dependency information for pyfume from https://files.pythonhosted.org/packages/ed/ea/a3b120e251145dcdb10777f2bc5f18b1496fd999d705a178c1b0ad947ce1/pyFUME-0.3.4-py3-none-any.whl.metadata\n",
      "  Downloading pyFUME-0.3.4-py3-none-any.whl.metadata (9.7 kB)\n",
      "Requirement already satisfied: python-dateutil>=2.8.2 in c:\\programdata\\anaconda3\\lib\\site-packages (from pandas->FuzzyTM>=0.4.0->gensim) (2.8.2)\n",
      "Requirement already satisfied: pytz>=2020.1 in c:\\programdata\\anaconda3\\lib\\site-packages (from pandas->FuzzyTM>=0.4.0->gensim) (2023.3.post1)\n",
      "Requirement already satisfied: tzdata>=2022.1 in c:\\programdata\\anaconda3\\lib\\site-packages (from pandas->FuzzyTM>=0.4.0->gensim) (2023.3)\n",
      "Collecting scipy>=1.7.0 (from gensim)\n",
      "  Obtaining dependency information for scipy>=1.7.0 from https://files.pythonhosted.org/packages/65/76/903324159e4a3566e518c558aeb21571d642f781d842d8dd0fd9c6b0645a/scipy-1.10.1-cp311-cp311-win_amd64.whl.metadata\n",
      "  Downloading scipy-1.10.1-cp311-cp311-win_amd64.whl.metadata (58 kB)\n",
      "     ---------------------------------------- 0.0/59.0 kB ? eta -:--:--\n",
      "     ------------------- ------------------ 30.7/59.0 kB 660.6 kB/s eta 0:00:01\n",
      "     -------------------------------- ----- 51.2/59.0 kB 650.2 kB/s eta 0:00:01\n",
      "     -------------------------------- ----- 51.2/59.0 kB 650.2 kB/s eta 0:00:01\n",
      "     -------------------------------------- 59.0/59.0 kB 345.6 kB/s eta 0:00:00\n",
      "Collecting numpy>=1.18.5 (from gensim)\n",
      "  Obtaining dependency information for numpy>=1.18.5 from https://files.pythonhosted.org/packages/d8/ec/ebef2f7d7c28503f958f0f8b992e7ce606fb74f9e891199329d5f5f87404/numpy-1.24.4-cp311-cp311-win_amd64.whl.metadata\n",
      "  Downloading numpy-1.24.4-cp311-cp311-win_amd64.whl.metadata (5.6 kB)\n",
      "Collecting simpful==2.12.0 (from pyfume->FuzzyTM>=0.4.0->gensim)\n",
      "  Obtaining dependency information for simpful==2.12.0 from https://files.pythonhosted.org/packages/9d/0e/aebc2fb0b0f481994179b2ee2b8e6bbf0894d971594688c018375e7076ea/simpful-2.12.0-py3-none-any.whl.metadata\n",
      "  Downloading simpful-2.12.0-py3-none-any.whl.metadata (4.8 kB)\n",
      "Collecting fst-pso==1.8.1 (from pyfume->FuzzyTM>=0.4.0->gensim)\n",
      "  Downloading fst-pso-1.8.1.tar.gz (18 kB)\n",
      "  Preparing metadata (setup.py): started\n",
      "  Preparing metadata (setup.py): finished with status 'done'\n",
      "Collecting pandas (from FuzzyTM>=0.4.0->gensim)\n",
      "  Obtaining dependency information for pandas from https://files.pythonhosted.org/packages/da/6d/1235da14daddaa6e47f74ba0c255358f0ce7a6ee05da8bf8eb49161aa6b5/pandas-1.5.3-cp311-cp311-win_amd64.whl.metadata\n",
      "  Downloading pandas-1.5.3-cp311-cp311-win_amd64.whl.metadata (12 kB)\n",
      "Collecting miniful (from fst-pso==1.8.1->pyfume->FuzzyTM>=0.4.0->gensim)\n",
      "  Downloading miniful-0.0.6.tar.gz (2.8 kB)\n",
      "  Preparing metadata (setup.py): started\n",
      "  Preparing metadata (setup.py): finished with status 'done'\n",
      "Requirement already satisfied: six>=1.5 in c:\\users\\sudhanshu\\appdata\\roaming\\python\\python311\\site-packages (from python-dateutil>=2.8.2->pandas->FuzzyTM>=0.4.0->gensim) (1.16.0)\n",
      "Downloading FuzzyTM-2.0.9-py3-none-any.whl (31 kB)\n",
      "Downloading pyFUME-0.3.4-py3-none-any.whl (60 kB)\n",
      "   ---------------------------------------- 0.0/60.3 kB ? eta -:--:--\n",
      "   ---------------------------------------- 60.3/60.3 kB 1.6 MB/s eta 0:00:00\n",
      "Downloading numpy-1.24.4-cp311-cp311-win_amd64.whl (14.8 MB)\n",
      "   ---------------------------------------- 0.0/14.8 MB ? eta -:--:--\n",
      "   ---------------------------------------- 0.2/14.8 MB 3.3 MB/s eta 0:00:05\n",
      "   - -------------------------------------- 0.5/14.8 MB 5.0 MB/s eta 0:00:03\n",
      "   - -------------------------------------- 0.5/14.8 MB 4.1 MB/s eta 0:00:04\n",
      "   - -------------------------------------- 0.5/14.8 MB 4.1 MB/s eta 0:00:04\n",
      "   -- ------------------------------------- 1.0/14.8 MB 4.7 MB/s eta 0:00:03\n",
      "   -- ------------------------------------- 1.1/14.8 MB 3.9 MB/s eta 0:00:04\n",
      "   --- ------------------------------------ 1.1/14.8 MB 3.9 MB/s eta 0:00:04\n",
      "   --- ------------------------------------ 1.2/14.8 MB 3.3 MB/s eta 0:00:05\n",
      "   --- ------------------------------------ 1.2/14.8 MB 3.3 MB/s eta 0:00:05\n",
      "   ---- ----------------------------------- 1.7/14.8 MB 3.8 MB/s eta 0:00:04\n",
      "   ----- ---------------------------------- 2.2/14.8 MB 4.5 MB/s eta 0:00:03\n",
      "   ----- ---------------------------------- 2.2/14.8 MB 4.0 MB/s eta 0:00:04\n",
      "   ------ --------------------------------- 2.5/14.8 MB 4.3 MB/s eta 0:00:03\n",
      "   ------ --------------------------------- 2.5/14.8 MB 4.3 MB/s eta 0:00:03\n",
      "   ------ --------------------------------- 2.5/14.8 MB 3.8 MB/s eta 0:00:04\n",
      "   ------ --------------------------------- 2.5/14.8 MB 3.8 MB/s eta 0:00:04\n",
      "   --------- ------------------------------ 3.6/14.8 MB 4.5 MB/s eta 0:00:03\n",
      "   --------- ------------------------------ 3.6/14.8 MB 4.5 MB/s eta 0:00:03\n",
      "   --------- ------------------------------ 3.6/14.8 MB 4.2 MB/s eta 0:00:03\n",
      "   --------- ------------------------------ 3.6/14.8 MB 4.2 MB/s eta 0:00:03\n",
      "   --------- ------------------------------ 3.7/14.8 MB 3.8 MB/s eta 0:00:03\n",
      "   --------- ------------------------------ 3.7/14.8 MB 3.8 MB/s eta 0:00:03\n",
      "   ---------- ----------------------------- 3.7/14.8 MB 3.6 MB/s eta 0:00:04\n",
      "   ---------- ----------------------------- 3.7/14.8 MB 3.6 MB/s eta 0:00:04\n",
      "   ----------- ---------------------------- 4.2/14.8 MB 3.7 MB/s eta 0:00:03\n",
      "   ------------ --------------------------- 4.7/14.8 MB 3.9 MB/s eta 0:00:03\n",
      "   ------------ --------------------------- 4.7/14.8 MB 3.8 MB/s eta 0:00:03\n",
      "   ------------ --------------------------- 4.7/14.8 MB 3.8 MB/s eta 0:00:03\n",
      "   ------------- -------------------------- 4.9/14.8 MB 3.7 MB/s eta 0:00:03\n",
      "   -------------- ------------------------- 5.2/14.8 MB 3.7 MB/s eta 0:00:03\n",
      "   -------------- ------------------------- 5.3/14.8 MB 3.7 MB/s eta 0:00:03\n",
      "   -------------- ------------------------- 5.5/14.8 MB 3.7 MB/s eta 0:00:03\n",
      "   -------------- ------------------------- 5.5/14.8 MB 3.7 MB/s eta 0:00:03\n",
      "   ---------------- ----------------------- 6.1/14.8 MB 3.8 MB/s eta 0:00:03\n",
      "   ---------------- ----------------------- 6.2/14.8 MB 3.9 MB/s eta 0:00:03\n",
      "   ----------------- ---------------------- 6.5/14.8 MB 3.9 MB/s eta 0:00:03\n",
      "   ----------------- ---------------------- 6.6/14.8 MB 3.9 MB/s eta 0:00:03\n",
      "   ------------------ --------------------- 6.9/14.8 MB 3.9 MB/s eta 0:00:03\n",
      "   ------------------- -------------------- 7.1/14.8 MB 3.9 MB/s eta 0:00:02\n",
      "   ------------------- -------------------- 7.3/14.8 MB 3.9 MB/s eta 0:00:02\n",
      "   ------------------- -------------------- 7.3/14.8 MB 3.9 MB/s eta 0:00:02\n",
      "   -------------------- ------------------- 7.6/14.8 MB 3.9 MB/s eta 0:00:02\n",
      "   -------------------- ------------------- 7.7/14.8 MB 3.9 MB/s eta 0:00:02\n",
      "   -------------------- ------------------- 7.7/14.8 MB 3.8 MB/s eta 0:00:02\n",
      "   --------------------- ------------------ 8.0/14.8 MB 3.8 MB/s eta 0:00:02\n",
      "   ---------------------- ----------------- 8.2/14.8 MB 3.9 MB/s eta 0:00:02\n",
      "   ---------------------- ----------------- 8.4/14.8 MB 3.8 MB/s eta 0:00:02\n",
      "   ---------------------- ----------------- 8.5/14.8 MB 3.8 MB/s eta 0:00:02\n",
      "   ----------------------- ---------------- 8.7/14.8 MB 3.8 MB/s eta 0:00:02\n",
      "   ----------------------- ---------------- 8.8/14.8 MB 3.8 MB/s eta 0:00:02\n",
      "   ------------------------ --------------- 9.0/14.8 MB 3.8 MB/s eta 0:00:02\n",
      "   ------------------------ --------------- 9.1/14.8 MB 3.8 MB/s eta 0:00:02\n",
      "   ------------------------- -------------- 9.4/14.8 MB 3.8 MB/s eta 0:00:02\n",
      "   ------------------------- -------------- 9.5/14.8 MB 3.8 MB/s eta 0:00:02\n",
      "   ------------------------- -------------- 9.6/14.8 MB 3.8 MB/s eta 0:00:02\n",
      "   -------------------------- ------------- 9.7/14.8 MB 3.7 MB/s eta 0:00:02\n",
      "   -------------------------- ------------- 9.9/14.8 MB 3.8 MB/s eta 0:00:02\n",
      "   --------------------------- ------------ 10.0/14.8 MB 3.7 MB/s eta 0:00:02\n",
      "   --------------------------- ------------ 10.1/14.8 MB 3.7 MB/s eta 0:00:02\n",
      "   --------------------------- ------------ 10.2/14.8 MB 3.7 MB/s eta 0:00:02\n",
      "   ---------------------------- ----------- 10.7/14.8 MB 3.7 MB/s eta 0:00:02\n",
      "   ----------------------------- ---------- 10.9/14.8 MB 3.8 MB/s eta 0:00:02\n",
      "   ------------------------------ --------- 11.2/14.8 MB 3.8 MB/s eta 0:00:01\n",
      "   ------------------------------ --------- 11.3/14.8 MB 3.8 MB/s eta 0:00:01\n",
      "   ------------------------------ --------- 11.4/14.8 MB 3.8 MB/s eta 0:00:01\n",
      "   ------------------------------- -------- 11.7/14.8 MB 3.9 MB/s eta 0:00:01\n",
      "   ------------------------------- -------- 11.8/14.8 MB 3.9 MB/s eta 0:00:01\n",
      "   -------------------------------- ------- 11.9/14.8 MB 3.7 MB/s eta 0:00:01\n",
      "   -------------------------------- ------- 12.2/14.8 MB 3.7 MB/s eta 0:00:01\n",
      "   --------------------------------- ------ 12.4/14.8 MB 3.7 MB/s eta 0:00:01\n",
      "   --------------------------------- ------ 12.6/14.8 MB 3.7 MB/s eta 0:00:01\n",
      "   ---------------------------------- ----- 12.7/14.8 MB 3.7 MB/s eta 0:00:01\n",
      "   ---------------------------------- ----- 12.9/14.8 MB 3.9 MB/s eta 0:00:01\n",
      "   ---------------------------------- ----- 13.0/14.8 MB 3.9 MB/s eta 0:00:01\n",
      "   ----------------------------------- ---- 13.1/14.8 MB 3.8 MB/s eta 0:00:01\n",
      "   ------------------------------------ --- 13.5/14.8 MB 3.7 MB/s eta 0:00:01\n",
      "   ------------------------------------ --- 13.7/14.8 MB 3.6 MB/s eta 0:00:01\n",
      "   ------------------------------------ --- 13.7/14.8 MB 3.6 MB/s eta 0:00:01\n",
      "   ------------------------------------- -- 13.8/14.8 MB 3.7 MB/s eta 0:00:01\n",
      "   -------------------------------------- - 14.1/14.8 MB 3.9 MB/s eta 0:00:01\n",
      "   -------------------------------------- - 14.2/14.8 MB 3.9 MB/s eta 0:00:01\n",
      "   -------------------------------------- - 14.5/14.8 MB 3.9 MB/s eta 0:00:01\n",
      "   ---------------------------------------  14.7/14.8 MB 3.9 MB/s eta 0:00:01\n",
      "   ---------------------------------------  14.8/14.8 MB 3.8 MB/s eta 0:00:01\n",
      "   ---------------------------------------- 14.8/14.8 MB 3.7 MB/s eta 0:00:00\n",
      "Downloading scipy-1.10.1-cp311-cp311-win_amd64.whl (42.2 MB)\n",
      "   ---------------------------------------- 0.0/42.2 MB ? eta -:--:--\n",
      "   ---------------------------------------- 0.2/42.2 MB ? eta -:--:--\n",
      "   ---------------------------------------- 0.2/42.2 MB ? eta -:--:--\n",
      "   ---------------------------------------- 0.4/42.2 MB 5.0 MB/s eta 0:00:09\n",
      "    --------------------------------------- 0.8/42.2 MB 6.0 MB/s eta 0:00:07\n",
      "   - -------------------------------------- 1.1/42.2 MB 5.7 MB/s eta 0:00:08\n",
      "   - -------------------------------------- 1.2/42.2 MB 5.2 MB/s eta 0:00:08\n",
      "   - -------------------------------------- 1.3/42.2 MB 4.9 MB/s eta 0:00:09\n",
      "   - -------------------------------------- 1.6/42.2 MB 4.9 MB/s eta 0:00:09\n",
      "   - -------------------------------------- 1.6/42.2 MB 4.9 MB/s eta 0:00:09\n",
      "   - -------------------------------------- 1.6/42.2 MB 4.9 MB/s eta 0:00:09\n",
      "   - -------------------------------------- 1.8/42.2 MB 4.1 MB/s eta 0:00:10\n",
      "   - -------------------------------------- 2.1/42.2 MB 4.1 MB/s eta 0:00:10\n",
      "   -- ------------------------------------- 2.3/42.2 MB 4.0 MB/s eta 0:00:10\n",
      "   -- ------------------------------------- 2.3/42.2 MB 4.0 MB/s eta 0:00:10\n",
      "   -- ------------------------------------- 2.5/42.2 MB 4.0 MB/s eta 0:00:10\n",
      "   -- ------------------------------------- 2.9/42.2 MB 4.1 MB/s eta 0:00:10\n",
      "   -- ------------------------------------- 2.9/42.2 MB 4.1 MB/s eta 0:00:10\n",
      "   -- ------------------------------------- 3.2/42.2 MB 4.0 MB/s eta 0:00:10\n",
      "   --- ------------------------------------ 3.6/42.2 MB 4.3 MB/s eta 0:00:09\n",
      "   --- ------------------------------------ 3.9/42.2 MB 4.5 MB/s eta 0:00:09\n",
      "   --- ------------------------------------ 4.1/42.2 MB 4.4 MB/s eta 0:00:09\n",
      "   --- ------------------------------------ 4.2/42.2 MB 4.4 MB/s eta 0:00:09\n",
      "   ---- ----------------------------------- 4.5/42.2 MB 4.4 MB/s eta 0:00:09\n",
      "   ---- ----------------------------------- 4.5/42.2 MB 4.3 MB/s eta 0:00:09\n",
      "   ---- ----------------------------------- 4.7/42.2 MB 4.1 MB/s eta 0:00:10\n",
      "   ---- ----------------------------------- 4.9/42.2 MB 4.2 MB/s eta 0:00:09\n",
      "   ----- ---------------------------------- 5.5/42.2 MB 4.5 MB/s eta 0:00:09\n",
      "   ----- ---------------------------------- 6.1/42.2 MB 4.8 MB/s eta 0:00:08\n",
      "   ------ --------------------------------- 6.4/42.2 MB 4.9 MB/s eta 0:00:08\n",
      "   ------ --------------------------------- 6.4/42.2 MB 4.9 MB/s eta 0:00:08\n",
      "   ------ --------------------------------- 6.5/42.2 MB 4.8 MB/s eta 0:00:08\n",
      "   ------ --------------------------------- 7.0/42.2 MB 4.8 MB/s eta 0:00:08\n",
      "   ------ --------------------------------- 7.2/42.2 MB 4.8 MB/s eta 0:00:08\n",
      "   ------ --------------------------------- 7.2/42.2 MB 4.8 MB/s eta 0:00:08\n",
      "   ------- -------------------------------- 7.8/42.2 MB 4.9 MB/s eta 0:00:08\n",
      "   ------- -------------------------------- 7.9/42.2 MB 4.9 MB/s eta 0:00:07\n",
      "   ------- -------------------------------- 8.1/42.2 MB 4.8 MB/s eta 0:00:08\n",
      "   ------- -------------------------------- 8.4/42.2 MB 4.8 MB/s eta 0:00:08\n",
      "   -------- ------------------------------- 8.6/42.2 MB 4.8 MB/s eta 0:00:07\n",
      "   -------- ------------------------------- 9.1/42.2 MB 5.0 MB/s eta 0:00:07\n",
      "   -------- ------------------------------- 9.3/42.2 MB 5.0 MB/s eta 0:00:07\n",
      "   --------- ------------------------------ 9.8/42.2 MB 5.2 MB/s eta 0:00:07\n",
      "   --------- ------------------------------ 10.0/42.2 MB 5.1 MB/s eta 0:00:07\n",
      "   --------- ------------------------------ 10.0/42.2 MB 5.1 MB/s eta 0:00:07\n",
      "   ---------- ----------------------------- 10.9/42.2 MB 5.2 MB/s eta 0:00:06\n",
      "   ---------- ----------------------------- 10.9/42.2 MB 5.2 MB/s eta 0:00:06\n",
      "   ---------- ----------------------------- 11.2/42.2 MB 5.1 MB/s eta 0:00:07\n",
      "   ---------- ----------------------------- 11.4/42.2 MB 5.2 MB/s eta 0:00:06\n",
      "   ---------- ----------------------------- 11.5/42.2 MB 5.2 MB/s eta 0:00:06\n",
      "   ----------- ---------------------------- 11.8/42.2 MB 5.3 MB/s eta 0:00:06\n",
      "   ----------- ---------------------------- 11.8/42.2 MB 5.3 MB/s eta 0:00:06\n",
      "   ------------ --------------------------- 12.8/42.2 MB 6.1 MB/s eta 0:00:05\n",
      "   ------------ --------------------------- 12.9/42.2 MB 6.0 MB/s eta 0:00:05\n",
      "   ------------ --------------------------- 12.9/42.2 MB 6.0 MB/s eta 0:00:05\n",
      "   ------------ --------------------------- 13.4/42.2 MB 6.0 MB/s eta 0:00:05\n",
      "   ------------ --------------------------- 13.4/42.2 MB 6.0 MB/s eta 0:00:05\n",
      "   ------------- -------------------------- 14.0/42.2 MB 5.8 MB/s eta 0:00:05\n",
      "   ------------- -------------------------- 14.0/42.2 MB 5.8 MB/s eta 0:00:05\n",
      "   ------------- -------------------------- 14.0/42.2 MB 5.8 MB/s eta 0:00:05\n",
      "   ------------- -------------------------- 14.0/42.2 MB 5.8 MB/s eta 0:00:05\n",
      "   -------------- ------------------------- 15.0/42.2 MB 6.2 MB/s eta 0:00:05\n",
      "   -------------- ------------------------- 15.0/42.2 MB 6.2 MB/s eta 0:00:05\n",
      "   -------------- ------------------------- 15.5/42.2 MB 6.1 MB/s eta 0:00:05\n",
      "   --------------- ------------------------ 15.9/42.2 MB 6.0 MB/s eta 0:00:05\n",
      "   --------------- ------------------------ 16.1/42.2 MB 5.8 MB/s eta 0:00:05\n",
      "   --------------- ------------------------ 16.1/42.2 MB 5.8 MB/s eta 0:00:05\n",
      "   --------------- ------------------------ 16.5/42.2 MB 5.8 MB/s eta 0:00:05\n",
      "   ---------------- ----------------------- 17.6/42.2 MB 6.5 MB/s eta 0:00:04\n",
      "   ---------------- ----------------------- 17.9/42.2 MB 6.5 MB/s eta 0:00:04\n",
      "   ----------------- ---------------------- 18.0/42.2 MB 6.3 MB/s eta 0:00:04\n",
      "   ----------------- ---------------------- 18.3/42.2 MB 6.4 MB/s eta 0:00:04\n",
      "   ----------------- ---------------------- 18.8/42.2 MB 6.7 MB/s eta 0:00:04\n",
      "   ------------------- -------------------- 20.1/42.2 MB 7.2 MB/s eta 0:00:04\n",
      "   ------------------- -------------------- 20.7/42.2 MB 7.4 MB/s eta 0:00:03\n",
      "   ------------------- -------------------- 20.9/42.2 MB 7.2 MB/s eta 0:00:03\n",
      "   ------------------- -------------------- 21.1/42.2 MB 7.4 MB/s eta 0:00:03\n",
      "   -------------------- ------------------- 21.2/42.2 MB 7.3 MB/s eta 0:00:03\n",
      "   --------------------- ------------------ 22.5/42.2 MB 8.2 MB/s eta 0:00:03\n",
      "   --------------------- ------------------ 22.7/42.2 MB 8.1 MB/s eta 0:00:03\n",
      "   ---------------------- ----------------- 23.7/42.2 MB 8.8 MB/s eta 0:00:03\n",
      "   ---------------------- ----------------- 24.0/42.2 MB 9.1 MB/s eta 0:00:03\n",
      "   ---------------------- ----------------- 24.0/42.2 MB 9.1 MB/s eta 0:00:03\n",
      "   ------------------------ --------------- 25.5/42.2 MB 10.6 MB/s eta 0:00:02\n",
      "   ------------------------ --------------- 25.6/42.2 MB 10.7 MB/s eta 0:00:02\n",
      "   ------------------------ --------------- 25.6/42.2 MB 10.7 MB/s eta 0:00:02\n",
      "   ------------------------- -------------- 26.5/42.2 MB 11.5 MB/s eta 0:00:02\n",
      "   ------------------------- -------------- 27.1/42.2 MB 11.1 MB/s eta 0:00:02\n",
      "   -------------------------- ------------- 27.9/42.2 MB 11.3 MB/s eta 0:00:02\n",
      "   -------------------------- ------------- 28.3/42.2 MB 11.9 MB/s eta 0:00:02\n",
      "   -------------------------- ------------- 28.3/42.2 MB 11.9 MB/s eta 0:00:02\n",
      "   --------------------------- ------------ 29.4/42.2 MB 11.9 MB/s eta 0:00:02\n",
      "   ---------------------------- ----------- 29.8/42.2 MB 11.7 MB/s eta 0:00:02\n",
      "   ---------------------------- ----------- 30.4/42.2 MB 11.1 MB/s eta 0:00:02\n",
      "   ---------------------------- ----------- 30.4/42.2 MB 11.1 MB/s eta 0:00:02\n",
      "   ---------------------------- ----------- 30.4/42.2 MB 11.1 MB/s eta 0:00:02\n",
      "   ------------------------------ --------- 32.3/42.2 MB 12.1 MB/s eta 0:00:01\n",
      "   ------------------------------ --------- 32.5/42.2 MB 11.3 MB/s eta 0:00:01\n",
      "   ------------------------------ --------- 32.7/42.2 MB 11.1 MB/s eta 0:00:01\n",
      "   ------------------------------- -------- 33.0/42.2 MB 11.1 MB/s eta 0:00:01\n",
      "   -------------------------------- ------- 33.9/42.2 MB 10.9 MB/s eta 0:00:01\n",
      "   -------------------------------- ------- 33.9/42.2 MB 10.9 MB/s eta 0:00:01\n",
      "   -------------------------------- ------- 33.9/42.2 MB 10.1 MB/s eta 0:00:01\n",
      "   -------------------------------- ------- 33.9/42.2 MB 10.1 MB/s eta 0:00:01\n",
      "   --------------------------------- ------ 35.0/42.2 MB 10.6 MB/s eta 0:00:01\n",
      "   --------------------------------- ------ 35.1/42.2 MB 10.4 MB/s eta 0:00:01\n",
      "   --------------------------------- ------ 35.3/42.2 MB 9.5 MB/s eta 0:00:01\n",
      "   ---------------------------------- ----- 36.3/42.2 MB 9.9 MB/s eta 0:00:01\n",
      "   ---------------------------------- ----- 36.8/42.2 MB 10.4 MB/s eta 0:00:01\n",
      "   ---------------------------------- ----- 36.9/42.2 MB 10.1 MB/s eta 0:00:01\n",
      "   ---------------------------------- ----- 36.9/42.2 MB 9.4 MB/s eta 0:00:01\n",
      "   ----------------------------------- ---- 37.2/42.2 MB 9.4 MB/s eta 0:00:01\n",
      "   ----------------------------------- ---- 37.8/42.2 MB 9.0 MB/s eta 0:00:01\n",
      "   ------------------------------------ --- 39.0/42.2 MB 9.9 MB/s eta 0:00:01\n",
      "   ------------------------------------- -- 39.7/42.2 MB 9.6 MB/s eta 0:00:01\n",
      "   ------------------------------------- -- 39.9/42.2 MB 9.2 MB/s eta 0:00:01\n",
      "   -------------------------------------- - 40.6/42.2 MB 9.6 MB/s eta 0:00:01\n",
      "   -------------------------------------- - 40.6/42.2 MB 9.6 MB/s eta 0:00:01\n",
      "   ---------------------------------------  41.8/42.2 MB 9.6 MB/s eta 0:00:01\n",
      "   ---------------------------------------  42.2/42.2 MB 9.2 MB/s eta 0:00:01\n",
      "   ---------------------------------------  42.2/42.2 MB 9.2 MB/s eta 0:00:01\n",
      "   ---------------------------------------  42.2/42.2 MB 9.2 MB/s eta 0:00:01\n",
      "   ---------------------------------------- 42.2/42.2 MB 8.3 MB/s eta 0:00:00\n",
      "Downloading pandas-1.5.3-cp311-cp311-win_amd64.whl (10.3 MB)\n",
      "   ---------------------------------------- 0.0/10.3 MB ? eta -:--:--\n",
      "   ---------------------------------------- 0.0/10.3 MB ? eta -:--:--\n",
      "   ---------------------------------------- 0.0/10.3 MB ? eta -:--:--\n",
      "    --------------------------------------- 0.2/10.3 MB 2.5 MB/s eta 0:00:05\n",
      "   -- ------------------------------------- 0.7/10.3 MB 7.0 MB/s eta 0:00:02\n",
      "   --- ------------------------------------ 1.0/10.3 MB 6.3 MB/s eta 0:00:02\n",
      "   ------ --------------------------------- 1.7/10.3 MB 8.3 MB/s eta 0:00:02\n",
      "   ---------- ----------------------------- 2.8/10.3 MB 11.0 MB/s eta 0:00:01\n",
      "   ----------- ---------------------------- 2.8/10.3 MB 10.1 MB/s eta 0:00:01\n",
      "   ----------- ---------------------------- 2.9/10.3 MB 8.7 MB/s eta 0:00:01\n",
      "   ----------- ---------------------------- 2.9/10.3 MB 8.7 MB/s eta 0:00:01\n",
      "   ----------- ---------------------------- 3.0/10.3 MB 6.6 MB/s eta 0:00:02\n",
      "   ----------- ---------------------------- 3.0/10.3 MB 6.5 MB/s eta 0:00:02\n",
      "   ------------- -------------------------- 3.5/10.3 MB 6.3 MB/s eta 0:00:02\n",
      "   -------------- ------------------------- 3.7/10.3 MB 6.2 MB/s eta 0:00:02\n",
      "   ----------------- ---------------------- 4.5/10.3 MB 7.1 MB/s eta 0:00:01\n",
      "   ------------------- -------------------- 5.0/10.3 MB 7.3 MB/s eta 0:00:01\n",
      "   ------------------- -------------------- 5.1/10.3 MB 7.4 MB/s eta 0:00:01\n",
      "   -------------------- ------------------- 5.2/10.3 MB 7.0 MB/s eta 0:00:01\n",
      "   ---------------------- ----------------- 5.7/10.3 MB 7.0 MB/s eta 0:00:01\n",
      "   ------------------------ --------------- 6.4/10.3 MB 7.5 MB/s eta 0:00:01\n",
      "   ------------------------- -------------- 6.5/10.3 MB 7.4 MB/s eta 0:00:01\n",
      "   --------------------------- ------------ 7.0/10.3 MB 7.5 MB/s eta 0:00:01\n",
      "   --------------------------- ------------ 7.0/10.3 MB 7.5 MB/s eta 0:00:01\n",
      "   --------------------------- ------------ 7.0/10.3 MB 7.5 MB/s eta 0:00:01\n",
      "   -------------------------------- ------- 8.5/10.3 MB 7.6 MB/s eta 0:00:01\n",
      "   ---------------------------------- ----- 8.8/10.3 MB 7.7 MB/s eta 0:00:01\n",
      "   ---------------------------------- ----- 8.9/10.3 MB 7.5 MB/s eta 0:00:01\n",
      "   ---------------------------------- ----- 8.9/10.3 MB 7.5 MB/s eta 0:00:01\n",
      "   ------------------------------------ --- 9.4/10.3 MB 7.3 MB/s eta 0:00:01\n",
      "   ------------------------------------- -- 9.6/10.3 MB 7.2 MB/s eta 0:00:01\n",
      "   ------------------------------------- -- 9.6/10.3 MB 7.2 MB/s eta 0:00:01\n",
      "   ---------------------------------------  10.2/10.3 MB 7.2 MB/s eta 0:00:01\n",
      "   ---------------------------------------- 10.3/10.3 MB 7.2 MB/s eta 0:00:00\n",
      "Downloading simpful-2.12.0-py3-none-any.whl (24 kB)\n",
      "Building wheels for collected packages: fst-pso, miniful\n",
      "  Building wheel for fst-pso (setup.py): started\n",
      "  Building wheel for fst-pso (setup.py): finished with status 'done'\n",
      "  Created wheel for fst-pso: filename=fst_pso-1.8.1-py3-none-any.whl size=20450 sha256=d3c93bce74b3ec00c2fa609ee3f08c2a7dcc9ce79d29c0171ef607d870ea4bd5\n",
      "  Stored in directory: c:\\users\\sudhanshu\\appdata\\local\\pip\\cache\\wheels\\69\\f5\\e5\\18ad53fe1ed6b2af9fad05ec052e4acbac8e92441df44bad2e\n",
      "  Building wheel for miniful (setup.py): started\n",
      "  Building wheel for miniful (setup.py): finished with status 'done'\n",
      "  Created wheel for miniful: filename=miniful-0.0.6-py3-none-any.whl size=3518 sha256=3c586b739acf5a957417b390ac241728886513500ef477195163480437806e0a\n",
      "  Stored in directory: c:\\users\\sudhanshu\\appdata\\local\\pip\\cache\\wheels\\9d\\ff\\2f\\afe4cd56f47de147407705626517d68bea0f3b74eb1fb168e6\n",
      "Successfully built fst-pso miniful\n",
      "Installing collected packages: numpy, scipy, pandas, simpful, miniful, fst-pso, pyfume, FuzzyTM\n",
      "  Attempting uninstall: numpy\n",
      "    Found existing installation: numpy 1.26.3\n",
      "    Uninstalling numpy-1.26.3:\n",
      "      Successfully uninstalled numpy-1.26.3\n",
      "Note: you may need to restart the kernel to use updated packages.\n"
     ]
    },
    {
     "name": "stderr",
     "output_type": "stream",
     "text": [
      "  WARNING: The script f2py.exe is installed in 'C:\\Users\\sudhanshu\\AppData\\Roaming\\Python\\Python311\\Scripts' which is not on PATH.\n",
      "  Consider adding this directory to PATH or, if you prefer to suppress this warning, use --no-warn-script-location.\n",
      "ERROR: Could not install packages due to an OSError: [WinError 5] Access is denied: 'C:\\\\Users\\\\sudhanshu\\\\AppData\\\\Roaming\\\\Python\\\\Python311\\\\site-packages\\\\~umpy.libs\\\\libopenblas64__v0.3.23-293-gc2f4bdbb-gcc_10_3_0-2bde3a66a51006b2b53eb373ff767a3f.dll'\n",
      "Check the permissions.\n",
      "\n"
     ]
    }
   ],
   "source": [
    "# pip install gensim "
   ]
  },
  {
   "cell_type": "markdown",
   "id": "18a0003a",
   "metadata": {},
   "source": [
    "All gensim models are listed on this page: https://github.com/RaRe-Technologies/gensim-data"
   ]
  },
  {
   "cell_type": "code",
   "execution_count": 6,
   "id": "82646d75",
   "metadata": {
    "scrolled": true
   },
   "outputs": [],
   "source": [
    "import gensim.downloader as api\n",
    "# This is a huge model (~1.6 gb) and it will take some time to load\n",
    "\n",
    "wv = api.load('word2vec-google-news-300')"
   ]
  },
  {
   "cell_type": "code",
   "execution_count": 7,
   "id": "123d8ee5",
   "metadata": {},
   "outputs": [
    {
     "data": {
      "text/plain": [
       "0.729151"
      ]
     },
     "execution_count": 7,
     "metadata": {},
     "output_type": "execute_result"
    }
   ],
   "source": [
    "wv.similarity(w1=\"great\", w2=\"good\")"
   ]
  },
  {
   "cell_type": "code",
   "execution_count": 8,
   "id": "74496bc7",
   "metadata": {},
   "outputs": [
    {
     "data": {
      "text/plain": [
       "[('great', 0.7291510105133057),\n",
       " ('bad', 0.7190051078796387),\n",
       " ('terrific', 0.6889115571975708),\n",
       " ('decent', 0.6837348341941833),\n",
       " ('nice', 0.6836092472076416),\n",
       " ('excellent', 0.644292950630188),\n",
       " ('fantastic', 0.6407778263092041),\n",
       " ('better', 0.6120728850364685),\n",
       " ('solid', 0.5806034803390503),\n",
       " ('lousy', 0.576420247554779)]"
      ]
     },
     "execution_count": 8,
     "metadata": {},
     "output_type": "execute_result"
    }
   ],
   "source": [
    "wv.most_similar(\"good\") # dood and bad highly contextualy similar"
   ]
  },
  {
   "cell_type": "code",
   "execution_count": 9,
   "id": "e692b6f0",
   "metadata": {},
   "outputs": [
    {
     "data": {
      "text/plain": [
       "[('dogs', 0.8680489659309387),\n",
       " ('puppy', 0.8106428384780884),\n",
       " ('pit_bull', 0.780396044254303),\n",
       " ('pooch', 0.7627376914024353),\n",
       " ('cat', 0.7609457969665527),\n",
       " ('golden_retriever', 0.7500901818275452),\n",
       " ('German_shepherd', 0.7465174198150635),\n",
       " ('Rottweiler', 0.7437615394592285),\n",
       " ('beagle', 0.7418621778488159),\n",
       " ('pup', 0.740691065788269)]"
      ]
     },
     "execution_count": 9,
     "metadata": {},
     "output_type": "execute_result"
    }
   ],
   "source": [
    "wv.most_similar(\"dog\")"
   ]
  },
  {
   "cell_type": "code",
   "execution_count": 10,
   "id": "1ec84cbe",
   "metadata": {},
   "outputs": [
    {
     "data": {
      "text/plain": [
       "[('queen', 0.7118193507194519),\n",
       " ('monarch', 0.6189674139022827),\n",
       " ('princess', 0.5902431011199951),\n",
       " ('crown_prince', 0.5499460697174072),\n",
       " ('prince', 0.5377321839332581)]"
      ]
     },
     "execution_count": 10,
     "metadata": {},
     "output_type": "execute_result"
    }
   ],
   "source": [
    "wv.most_similar(positive=['king', 'woman'], negative=['man'], topn=5) # king - man + woman"
   ]
  },
  {
   "cell_type": "code",
   "execution_count": 11,
   "id": "c6b2589c",
   "metadata": {},
   "outputs": [
    {
     "data": {
      "text/plain": [
       "[('germany', 0.5094343423843384),\n",
       " ('european', 0.48650455474853516),\n",
       " ('german', 0.4714890420436859),\n",
       " ('austria', 0.46964022517204285),\n",
       " ('swedish', 0.4645182490348816)]"
      ]
     },
     "execution_count": 11,
     "metadata": {},
     "output_type": "execute_result"
    }
   ],
   "source": [
    "wv.most_similar(positive=['france', 'berlin'], negative=['paris'], topn=5) # france - paris + berlin"
   ]
  },
  {
   "cell_type": "code",
   "execution_count": 12,
   "id": "4b60309d",
   "metadata": {},
   "outputs": [
    {
     "data": {
      "text/plain": [
       "'cat'"
      ]
     },
     "execution_count": 12,
     "metadata": {},
     "output_type": "execute_result"
    }
   ],
   "source": [
    "wv.doesnt_match([\"facebook\", \"cat\", \"google\", \"microsoft\"])"
   ]
  },
  {
   "cell_type": "code",
   "execution_count": 13,
   "id": "a8abe1a2",
   "metadata": {},
   "outputs": [
    {
     "data": {
      "text/plain": [
       "'google'"
      ]
     },
     "execution_count": 13,
     "metadata": {},
     "output_type": "execute_result"
    }
   ],
   "source": [
    "wv.doesnt_match([\"dog\", \"cat\", \"google\", \"mouse\"])"
   ]
  },
  {
   "cell_type": "markdown",
   "id": "51df9555",
   "metadata": {},
   "source": [
    "<h3>Gensim: Glove</h3>"
   ]
  },
  {
   "cell_type": "markdown",
   "id": "46540508",
   "metadata": {},
   "source": [
    "Stanford's page on GloVe: https://nlp.stanford.edu/projects/glove/"
   ]
  },
  {
   "cell_type": "code",
   "execution_count": 16,
   "id": "d31b2bca",
   "metadata": {},
   "outputs": [
    {
     "name": "stdout",
     "output_type": "stream",
     "text": [
      "[==================================================] 100.0% 104.8/104.8MB downloaded\n"
     ]
    }
   ],
   "source": [
    "glv = api.load(\"glove-twitter-25\")"
   ]
  },
  {
   "cell_type": "code",
   "execution_count": 17,
   "id": "cbf5e30d",
   "metadata": {},
   "outputs": [
    {
     "data": {
      "text/plain": [
       "[('too', 0.9648017287254333),\n",
       " ('day', 0.9533665180206299),\n",
       " ('well', 0.9503170847892761),\n",
       " ('nice', 0.9438973665237427),\n",
       " ('better', 0.9425962567329407),\n",
       " ('fun', 0.9418926239013672),\n",
       " ('much', 0.9413353800773621),\n",
       " ('this', 0.9387555122375488),\n",
       " ('hope', 0.9383506774902344),\n",
       " ('great', 0.9378516674041748)]"
      ]
     },
     "execution_count": 17,
     "metadata": {},
     "output_type": "execute_result"
    }
   ],
   "source": [
    "glv.most_similar(\"good\") # different resukt to google."
   ]
  },
  {
   "cell_type": "code",
   "execution_count": 18,
   "id": "1b47c704",
   "metadata": {},
   "outputs": [
    {
     "data": {
      "text/plain": [
       "'cereal'"
      ]
     },
     "execution_count": 18,
     "metadata": {},
     "output_type": "execute_result"
    }
   ],
   "source": [
    "glv.doesnt_match(\"breakfast cereal dinner lunch\".split())"
   ]
  },
  {
   "cell_type": "code",
   "execution_count": 19,
   "id": "99e10b38",
   "metadata": {},
   "outputs": [
    {
     "data": {
      "text/plain": [
       "'cat'"
      ]
     },
     "execution_count": 19,
     "metadata": {},
     "output_type": "execute_result"
    }
   ],
   "source": [
    "glv.doesnt_match(\"facebook cat google microsoft\".split())"
   ]
  },
  {
   "cell_type": "code",
   "execution_count": 20,
   "id": "0ce3f7c1",
   "metadata": {},
   "outputs": [
    {
     "data": {
      "text/plain": [
       "'human'"
      ]
     },
     "execution_count": 20,
     "metadata": {},
     "output_type": "execute_result"
    }
   ],
   "source": [
    "glv.doesnt_match(\"banana grapes orange human\".split())"
   ]
  }
 ],
 "metadata": {
  "kernelspec": {
   "display_name": "Python 3 (ipykernel)",
   "language": "python",
   "name": "python3"
  },
  "language_info": {
   "codemirror_mode": {
    "name": "ipython",
    "version": 3
   },
   "file_extension": ".py",
   "mimetype": "text/x-python",
   "name": "python",
   "nbconvert_exporter": "python",
   "pygments_lexer": "ipython3",
   "version": "3.11.5"
  }
 },
 "nbformat": 4,
 "nbformat_minor": 5
}
