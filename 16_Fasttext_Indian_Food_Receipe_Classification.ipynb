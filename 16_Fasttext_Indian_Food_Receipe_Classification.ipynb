{
 "cells": [
  {
   "cell_type": "markdown",
   "id": "9fc69a91",
   "metadata": {},
   "source": [
    "<h3>Download and explore pre-trained models</h3>"
   ]
  },
  {
   "cell_type": "markdown",
   "id": "801bc8a9",
   "metadata": {},
   "source": [
    "##### (1) Explore English Model"
   ]
  },
  {
   "cell_type": "code",
   "execution_count": 2,
   "id": "e22f5e99-75b1-4585-aaac-e4cd522e5c54",
   "metadata": {},
   "outputs": [
    {
     "name": "stdout",
     "output_type": "stream",
     "text": [
      "Defaulting to user installation because normal site-packages is not writeable\n",
      "Collecting fasttext\n",
      "  Downloading fasttext-0.9.3.tar.gz (73 kB)\n",
      "     ---------------------------------------- 0.0/73.4 kB ? eta -:--:--\n",
      "     ---------------------------------------- 0.0/73.4 kB ? eta -:--:--\n",
      "     ----- ---------------------------------- 10.2/73.4 kB ? eta -:--:--\n",
      "     ---------- --------------------------- 20.5/73.4 kB 162.5 kB/s eta 0:00:01\n",
      "     -------------------------------------- 73.4/73.4 kB 579.8 kB/s eta 0:00:00\n",
      "  Installing build dependencies: started\n",
      "  Installing build dependencies: still running...\n",
      "  Installing build dependencies: finished with status 'done'\n",
      "  Getting requirements to build wheel: started\n",
      "  Getting requirements to build wheel: finished with status 'done'\n",
      "  Preparing metadata (pyproject.toml): started\n",
      "  Preparing metadata (pyproject.toml): finished with status 'done'\n",
      "Collecting pybind11>=2.2 (from fasttext)\n",
      "  Obtaining dependency information for pybind11>=2.2 from https://files.pythonhosted.org/packages/04/e8/a22d08220cb5e230007d9b0c11e429c3b19d01315d1a99dbd45e3bf97386/pybind11-2.13.5-py3-none-any.whl.metadata\n",
      "  Using cached pybind11-2.13.5-py3-none-any.whl.metadata (9.5 kB)\n",
      "Requirement already satisfied: setuptools>=0.7.0 in c:\\programdata\\anaconda3\\lib\\site-packages (from fasttext) (68.0.0)\n",
      "Requirement already satisfied: numpy in c:\\users\\sudhanshu\\appdata\\roaming\\python\\python311\\site-packages (from fasttext) (1.24.4)\n",
      "Using cached pybind11-2.13.5-py3-none-any.whl (240 kB)\n",
      "Building wheels for collected packages: fasttext\n",
      "  Building wheel for fasttext (pyproject.toml): started\n",
      "  Building wheel for fasttext (pyproject.toml): finished with status 'error'\n",
      "Failed to build fasttext\n",
      "Note: you may need to restart the kernel to use updated packages.\n"
     ]
    },
    {
     "name": "stderr",
     "output_type": "stream",
     "text": [
      "  error: subprocess-exited-with-error\n",
      "  \n",
      "  Building wheel for fasttext (pyproject.toml) did not run successfully.\n",
      "  exit code: 1\n",
      "  \n",
      "  [112 lines of output]\n",
      "  C:\\Users\\sudhanshu\\AppData\\Local\\Temp\\pip-build-env-mj8dgmh0\\overlay\\Lib\\site-packages\\setuptools\\dist.py:452: SetuptoolsDeprecationWarning: Invalid dash-separated options\n",
      "  !!\n",
      "  \n",
      "          ********************************************************************************\n",
      "          Usage of dash-separated 'description-file' will not be supported in future\n",
      "          versions. Please use the underscore name 'description_file' instead.\n",
      "  \n",
      "          By 2024-Sep-26, you need to update your project and remove deprecated calls\n",
      "          or your builds will no longer be supported.\n",
      "  \n",
      "          See https://setuptools.pypa.io/en/latest/userguide/declarative_config.html for details.\n",
      "          ********************************************************************************\n",
      "  \n",
      "  !!\n",
      "    opt = self.warn_dash_deprecation(opt, section)\n",
      "  running bdist_wheel\n",
      "  running build\n",
      "  running build_py\n",
      "  creating build\n",
      "  creating build\\lib.win-amd64-cpython-311\n",
      "  creating build\\lib.win-amd64-cpython-311\\fasttext\n",
      "  copying python\\fasttext_module\\fasttext\\FastText.py -> build\\lib.win-amd64-cpython-311\\fasttext\n",
      "  copying python\\fasttext_module\\fasttext\\__init__.py -> build\\lib.win-amd64-cpython-311\\fasttext\n",
      "  creating build\\lib.win-amd64-cpython-311\\fasttext\\util\n",
      "  copying python\\fasttext_module\\fasttext\\util\\util.py -> build\\lib.win-amd64-cpython-311\\fasttext\\util\n",
      "  copying python\\fasttext_module\\fasttext\\util\\__init__.py -> build\\lib.win-amd64-cpython-311\\fasttext\\util\n",
      "  creating build\\lib.win-amd64-cpython-311\\fasttext\\tests\n",
      "  copying python\\fasttext_module\\fasttext\\tests\\test_configurations.py -> build\\lib.win-amd64-cpython-311\\fasttext\\tests\n",
      "  copying python\\fasttext_module\\fasttext\\tests\\test_script.py -> build\\lib.win-amd64-cpython-311\\fasttext\\tests\n",
      "  copying python\\fasttext_module\\fasttext\\tests\\__init__.py -> build\\lib.win-amd64-cpython-311\\fasttext\\tests\n",
      "  running build_ext\n",
      "  building 'fasttext_pybind' extension\n",
      "  creating build\\temp.win-amd64-cpython-311\n",
      "  creating build\\temp.win-amd64-cpython-311\\Release\n",
      "  creating build\\temp.win-amd64-cpython-311\\Release\\python\n",
      "  creating build\\temp.win-amd64-cpython-311\\Release\\python\\fasttext_module\n",
      "  creating build\\temp.win-amd64-cpython-311\\Release\\python\\fasttext_module\\fasttext\n",
      "  creating build\\temp.win-amd64-cpython-311\\Release\\python\\fasttext_module\\fasttext\\pybind\n",
      "  creating build\\temp.win-amd64-cpython-311\\Release\\src\n",
      "  \"C:\\Program Files (x86)\\Microsoft Visual Studio\\2019\\BuildTools\\VC\\Tools\\MSVC\\14.29.30133\\bin\\HostX86\\x64\\cl.exe\" /c /nologo /O2 /W3 /GL /DNDEBUG /MD -IC:\\Users\\sudhanshu\\AppData\\Local\\Temp\\pip-build-env-mj8dgmh0\\overlay\\Lib\\site-packages\\pybind11\\include -IC:\\Users\\sudhanshu\\AppData\\Local\\Temp\\pip-build-env-mj8dgmh0\\overlay\\Lib\\site-packages\\pybind11\\include -Isrc -IC:\\ProgramData\\anaconda3\\include -IC:\\ProgramData\\anaconda3\\Include \"-IC:\\Program Files (x86)\\Microsoft Visual Studio\\2019\\BuildTools\\VC\\Tools\\MSVC\\14.29.30133\\include\" \"-IC:\\Program Files (x86)\\Windows Kits\\10\\include\\10.0.19041.0\\ucrt\" \"-IC:\\Program Files (x86)\\Windows Kits\\10\\include\\10.0.19041.0\\shared\" \"-IC:\\Program Files (x86)\\Windows Kits\\10\\include\\10.0.19041.0\\um\" \"-IC:\\Program Files (x86)\\Windows Kits\\10\\include\\10.0.19041.0\\winrt\" \"-IC:\\Program Files (x86)\\Windows Kits\\10\\include\\10.0.19041.0\\cppwinrt\" /EHsc /Tppython/fasttext_module/fasttext/pybind/fasttext_pybind.cc /Fobuild\\temp.win-amd64-cpython-311\\Release\\python/fasttext_module/fasttext/pybind/fasttext_pybind.obj /EHsc /DVERSION_INFO=\\\\\\\"0.9.3\\\\\\\"\n",
      "  fasttext_pybind.cc\n",
      "  The contents of <string_view> are available only with C++17 or later.\n",
      "  C:\\Users\\sudhanshu\\AppData\\Local\\Temp\\pip-install-mq7deuqq\\fasttext_79b459970c154da7834783089c8f32ec\\src\\dictionary.h(40): error C2039: 'string_view': is not a member of 'std'\n",
      "  C:\\Program Files (x86)\\Microsoft Visual Studio\\2019\\BuildTools\\VC\\Tools\\MSVC\\14.29.30133\\include\\unordered_map(24): note: see declaration of 'std'\n",
      "  C:\\Users\\sudhanshu\\AppData\\Local\\Temp\\pip-install-mq7deuqq\\fasttext_79b459970c154da7834783089c8f32ec\\src\\dictionary.h(40): error C4430: missing type specifier - int assumed. Note: C++ does not support default-int\n",
      "  C:\\Users\\sudhanshu\\AppData\\Local\\Temp\\pip-install-mq7deuqq\\fasttext_79b459970c154da7834783089c8f32ec\\src\\dictionary.h(41): error C2039: 'string_view': is not a member of 'std'\n",
      "  C:\\Program Files (x86)\\Microsoft Visual Studio\\2019\\BuildTools\\VC\\Tools\\MSVC\\14.29.30133\\include\\unordered_map(24): note: see declaration of 'std'\n",
      "  C:\\Users\\sudhanshu\\AppData\\Local\\Temp\\pip-install-mq7deuqq\\fasttext_79b459970c154da7834783089c8f32ec\\src\\dictionary.h(41): error C4430: missing type specifier - int assumed. Note: C++ does not support default-int\n",
      "  C:\\Users\\sudhanshu\\AppData\\Local\\Temp\\pip-install-mq7deuqq\\fasttext_79b459970c154da7834783089c8f32ec\\src\\dictionary.h(46): error C2039: 'string_view': is not a member of 'std'\n",
      "  C:\\Program Files (x86)\\Microsoft Visual Studio\\2019\\BuildTools\\VC\\Tools\\MSVC\\14.29.30133\\include\\unordered_map(24): note: see declaration of 'std'\n",
      "  C:\\Users\\sudhanshu\\AppData\\Local\\Temp\\pip-install-mq7deuqq\\fasttext_79b459970c154da7834783089c8f32ec\\src\\dictionary.h(46): error C4430: missing type specifier - int assumed. Note: C++ does not support default-int\n",
      "  C:\\Users\\sudhanshu\\AppData\\Local\\Temp\\pip-install-mq7deuqq\\fasttext_79b459970c154da7834783089c8f32ec\\src\\dictionary.h(75): error C2039: 'string_view': is not a member of 'std'\n",
      "  C:\\Program Files (x86)\\Microsoft Visual Studio\\2019\\BuildTools\\VC\\Tools\\MSVC\\14.29.30133\\include\\unordered_map(24): note: see declaration of 'std'\n",
      "  C:\\Users\\sudhanshu\\AppData\\Local\\Temp\\pip-install-mq7deuqq\\fasttext_79b459970c154da7834783089c8f32ec\\src\\dictionary.h(75): error C4430: missing type specifier - int assumed. Note: C++ does not support default-int\n",
      "  C:\\Users\\sudhanshu\\AppData\\Local\\Temp\\pip-install-mq7deuqq\\fasttext_79b459970c154da7834783089c8f32ec\\src\\dictionary.h(76): error C2039: 'string_view': is not a member of 'std'\n",
      "  C:\\Program Files (x86)\\Microsoft Visual Studio\\2019\\BuildTools\\VC\\Tools\\MSVC\\14.29.30133\\include\\unordered_map(24): note: see declaration of 'std'\n",
      "  C:\\Users\\sudhanshu\\AppData\\Local\\Temp\\pip-install-mq7deuqq\\fasttext_79b459970c154da7834783089c8f32ec\\src\\dictionary.h(76): error C4430: missing type specifier - int assumed. Note: C++ does not support default-int\n",
      "  C:\\Users\\sudhanshu\\AppData\\Local\\Temp\\pip-install-mq7deuqq\\fasttext_79b459970c154da7834783089c8f32ec\\src\\dictionary.h(78): error C2039: 'string_view': is not a member of 'std'\n",
      "  C:\\Program Files (x86)\\Microsoft Visual Studio\\2019\\BuildTools\\VC\\Tools\\MSVC\\14.29.30133\\include\\unordered_map(24): note: see declaration of 'std'\n",
      "  C:\\Users\\sudhanshu\\AppData\\Local\\Temp\\pip-install-mq7deuqq\\fasttext_79b459970c154da7834783089c8f32ec\\src\\dictionary.h(78): error C4430: missing type specifier - int assumed. Note: C++ does not support default-int\n",
      "  C:\\Users\\sudhanshu\\AppData\\Local\\Temp\\pip-install-mq7deuqq\\fasttext_79b459970c154da7834783089c8f32ec\\src\\dictionary.h(78): error C2535: 'fasttext::entry_type fasttext::Dictionary::getType(int32_t) const': member function already defined or declared\n",
      "  C:\\Users\\sudhanshu\\AppData\\Local\\Temp\\pip-install-mq7deuqq\\fasttext_79b459970c154da7834783089c8f32ec\\src\\dictionary.h(77): note: see declaration of 'fasttext::Dictionary::getType'\n",
      "  C:\\Users\\sudhanshu\\AppData\\Local\\Temp\\pip-install-mq7deuqq\\fasttext_79b459970c154da7834783089c8f32ec\\src\\dictionary.h(91): error C2039: 'string_view': is not a member of 'std'\n",
      "  C:\\Program Files (x86)\\Microsoft Visual Studio\\2019\\BuildTools\\VC\\Tools\\MSVC\\14.29.30133\\include\\unordered_map(24): note: see declaration of 'std'\n",
      "  C:\\Users\\sudhanshu\\AppData\\Local\\Temp\\pip-install-mq7deuqq\\fasttext_79b459970c154da7834783089c8f32ec\\src\\dictionary.h(91): error C4430: missing type specifier - int assumed. Note: C++ does not support default-int\n",
      "  C:\\Users\\sudhanshu\\AppData\\Local\\Temp\\pip-install-mq7deuqq\\fasttext_79b459970c154da7834783089c8f32ec\\src\\dictionary.h(91): error C2146: syntax error: missing ')' before identifier 'str'\n",
      "  C:\\Users\\sudhanshu\\AppData\\Local\\Temp\\pip-install-mq7deuqq\\fasttext_79b459970c154da7834783089c8f32ec\\src\\dictionary.h(91): error C3646: 'str': unknown override specifier\n",
      "  C:\\Users\\sudhanshu\\AppData\\Local\\Temp\\pip-install-mq7deuqq\\fasttext_79b459970c154da7834783089c8f32ec\\src\\dictionary.h(91): error C2059: syntax error: ')'\n",
      "  C:\\Users\\sudhanshu\\AppData\\Local\\Temp\\pip-install-mq7deuqq\\fasttext_79b459970c154da7834783089c8f32ec\\src\\dictionary.h(91): error C2143: syntax error: missing ';' before 'const'\n",
      "  C:\\Users\\sudhanshu\\AppData\\Local\\Temp\\pip-install-mq7deuqq\\fasttext_79b459970c154da7834783089c8f32ec\\src\\dictionary.h(91): error C4430: missing type specifier - int assumed. Note: C++ does not support default-int\n",
      "  C:\\Users\\sudhanshu\\AppData\\Local\\Temp\\pip-install-mq7deuqq\\fasttext_79b459970c154da7834783089c8f32ec\\src\\dictionary.h(91): error C2208: 'const int': no members defined using this type\n",
      "  C:\\Users\\sudhanshu\\AppData\\Local\\Temp\\pip-install-mq7deuqq\\fasttext_79b459970c154da7834783089c8f32ec\\src\\dictionary.h(91): warning C4091: ' ': ignored on left of 'const int' when no variable is declared\n",
      "  C:\\Users\\sudhanshu\\AppData\\Local\\Temp\\pip-install-mq7deuqq\\fasttext_79b459970c154da7834783089c8f32ec\\src\\dictionary.h(103): error C2039: 'string_view': is not a member of 'std'\n",
      "  C:\\Program Files (x86)\\Microsoft Visual Studio\\2019\\BuildTools\\VC\\Tools\\MSVC\\14.29.30133\\include\\unordered_map(24): note: see declaration of 'std'\n",
      "  C:\\Users\\sudhanshu\\AppData\\Local\\Temp\\pip-install-mq7deuqq\\fasttext_79b459970c154da7834783089c8f32ec\\src\\dictionary.h(103): error C2061: syntax error: identifier 'string_view'\n",
      "  python/fasttext_module/fasttext/pybind/fasttext_pybind.cc(71): error C2662: 'uint32_t fasttext::Dictionary::hash(const int)': cannot convert 'this' pointer from '_Ty2' to 'fasttext::Dictionary &'\n",
      "          with\n",
      "          [\n",
      "              _Ty2=const fasttext::Dictionary\n",
      "          ]\n",
      "  python/fasttext_module/fasttext/pybind/fasttext_pybind.cc(71): note: Conversion loses qualifiers\n",
      "  C:\\Users\\sudhanshu\\AppData\\Local\\Temp\\pip-install-mq7deuqq\\fasttext_79b459970c154da7834783089c8f32ec\\src\\dictionary.h(91): note: see declaration of 'fasttext::Dictionary::hash'\n",
      "  python/fasttext_module/fasttext/pybind/fasttext_pybind.cc(72): error C2664: 'int32_t fasttext::Dictionary::getId(const int,uint32_t) const': cannot convert argument 1 from 'std::string' to 'const int'\n",
      "  python/fasttext_module/fasttext/pybind/fasttext_pybind.cc(72): note: No user-defined-conversion operator available that can perform this conversion, or the operator cannot be called\n",
      "  C:\\Users\\sudhanshu\\AppData\\Local\\Temp\\pip-install-mq7deuqq\\fasttext_79b459970c154da7834783089c8f32ec\\src\\dictionary.h(76): note: see declaration of 'fasttext::Dictionary::getId'\n",
      "  python/fasttext_module/fasttext/pybind/fasttext_pybind.cc(73): error C2664: 'fasttext::entry_type fasttext::Dictionary::getType(int32_t) const': cannot convert argument 1 from 'std::string' to 'int32_t'\n",
      "  python/fasttext_module/fasttext/pybind/fasttext_pybind.cc(73): note: No user-defined-conversion operator available that can perform this conversion, or the operator cannot be called\n",
      "  C:\\Users\\sudhanshu\\AppData\\Local\\Temp\\pip-install-mq7deuqq\\fasttext_79b459970c154da7834783089c8f32ec\\src\\dictionary.h(77): note: see declaration of 'fasttext::Dictionary::getType'\n",
      "  python/fasttext_module/fasttext/pybind/fasttext_pybind.cc(172): error C2065: 'ssize_t': undeclared identifier\n",
      "  python/fasttext_module/fasttext/pybind/fasttext_pybind.cc(172): error C2672: 'pybind11::init': no matching overloaded function found\n",
      "  python/fasttext_module/fasttext/pybind/fasttext_pybind.cc(171): error C2974: 'pybind11::init': invalid template argument for 'CFunc', type expected\n",
      "  C:\\Users\\sudhanshu\\AppData\\Local\\Temp\\pip-build-env-mj8dgmh0\\overlay\\Lib\\site-packages\\pybind11\\include\\pybind11\\pybind11.h(2026): note: see declaration of 'pybind11::init'\n",
      "  python/fasttext_module/fasttext/pybind/fasttext_pybind.cc(171): error C2974: 'pybind11::init': invalid template argument for 'Func', type expected\n",
      "  C:\\Users\\sudhanshu\\AppData\\Local\\Temp\\pip-build-env-mj8dgmh0\\overlay\\Lib\\site-packages\\pybind11\\include\\pybind11\\pybind11.h(2018): note: see declaration of 'pybind11::init'\n",
      "  python/fasttext_module/fasttext/pybind/fasttext_pybind.cc(171): error C2974: 'pybind11::init': invalid template argument for 'Args', type expected\n",
      "  C:\\Users\\sudhanshu\\AppData\\Local\\Temp\\pip-build-env-mj8dgmh0\\overlay\\Lib\\site-packages\\pybind11\\include\\pybind11\\pybind11.h(2006): note: see declaration of 'pybind11::init'\n",
      "  python/fasttext_module/fasttext/pybind/fasttext_pybind.cc(172): error C2672: 'pybind11::class_<fasttext::Vector>::def': no matching overloaded function found\n",
      "  python/fasttext_module/fasttext/pybind/fasttext_pybind.cc(171): error C2780: 'pybind11::class_<fasttext::Vector> &pybind11::class_<fasttext::Vector>::def(const char *,Func &&,const Extra &...)': expects 3 arguments - 1 provided\n",
      "  C:\\Users\\sudhanshu\\AppData\\Local\\Temp\\pip-build-env-mj8dgmh0\\overlay\\Lib\\site-packages\\pybind11\\include\\pybind11\\pybind11.h(1668): note: see declaration of 'pybind11::class_<fasttext::Vector>::def'\n",
      "  python/fasttext_module/fasttext/pybind/fasttext_pybind.cc(186): error C2065: 'ssize_t': undeclared identifier\n",
      "  python/fasttext_module/fasttext/pybind/fasttext_pybind.cc(186): error C2065: 'ssize_t': undeclared identifier\n",
      "  python/fasttext_module/fasttext/pybind/fasttext_pybind.cc(186): error C2672: 'pybind11::init': no matching overloaded function found\n",
      "  python/fasttext_module/fasttext/pybind/fasttext_pybind.cc(183): error C2974: 'pybind11::init': invalid template argument for 'CFunc', type expected\n",
      "  C:\\Users\\sudhanshu\\AppData\\Local\\Temp\\pip-build-env-mj8dgmh0\\overlay\\Lib\\site-packages\\pybind11\\include\\pybind11\\pybind11.h(2026): note: see declaration of 'pybind11::init'\n",
      "  python/fasttext_module/fasttext/pybind/fasttext_pybind.cc(183): error C2974: 'pybind11::init': invalid template argument for 'Func', type expected\n",
      "  C:\\Users\\sudhanshu\\AppData\\Local\\Temp\\pip-build-env-mj8dgmh0\\overlay\\Lib\\site-packages\\pybind11\\include\\pybind11\\pybind11.h(2018): note: see declaration of 'pybind11::init'\n",
      "  python/fasttext_module/fasttext/pybind/fasttext_pybind.cc(183): error C2974: 'pybind11::init': invalid template argument for 'Args', type expected\n",
      "  C:\\Users\\sudhanshu\\AppData\\Local\\Temp\\pip-build-env-mj8dgmh0\\overlay\\Lib\\site-packages\\pybind11\\include\\pybind11\\pybind11.h(2006): note: see declaration of 'pybind11::init'\n",
      "  python/fasttext_module/fasttext/pybind/fasttext_pybind.cc(186): error C2672: 'pybind11::class_<fasttext::DenseMatrix>::def': no matching overloaded function found\n",
      "  python/fasttext_module/fasttext/pybind/fasttext_pybind.cc(183): error C2780: 'pybind11::class_<fasttext::DenseMatrix> &pybind11::class_<fasttext::DenseMatrix>::def(const char *,Func &&,const Extra &...)': expects 3 arguments - 1 provided\n",
      "  C:\\Users\\sudhanshu\\AppData\\Local\\Temp\\pip-build-env-mj8dgmh0\\overlay\\Lib\\site-packages\\pybind11\\include\\pybind11\\pybind11.h(1668): note: see declaration of 'pybind11::class_<fasttext::DenseMatrix>::def'\n",
      "  error: command 'C:\\\\Program Files (x86)\\\\Microsoft Visual Studio\\\\2019\\\\BuildTools\\\\VC\\\\Tools\\\\MSVC\\\\14.29.30133\\\\bin\\\\HostX86\\\\x64\\\\cl.exe' failed with exit code 2\n",
      "  [end of output]\n",
      "  \n",
      "  note: This error originates from a subprocess, and is likely not a problem with pip.\n",
      "  ERROR: Failed building wheel for fasttext\n",
      "ERROR: Could not build wheels for fasttext, which is required to install pyproject.toml-based projects\n"
     ]
    }
   ],
   "source": [
    "# pip install fasttext"
   ]
  },
  {
   "cell_type": "code",
   "execution_count": 96,
   "id": "889e0cc5",
   "metadata": {
    "scrolled": true
   },
   "outputs": [
    {
     "name": "stderr",
     "output_type": "stream",
     "text": [
      "Warning : `load_model` does not return WordVectorModel or SupervisedModel any more, but a `FastText` object which is very similar.\n"
     ]
    },
    {
     "data": {
      "text/plain": [
       "[(0.7517593502998352, 'bad'),\n",
       " (0.7426098585128784, 'great'),\n",
       " (0.7299689054489136, 'decent'),\n",
       " (0.7123614549636841, 'nice'),\n",
       " (0.6796907186508179, 'Good'),\n",
       " (0.6737031936645508, 'excellent'),\n",
       " (0.669592022895813, 'goood'),\n",
       " (0.6602178812026978, 'ggod'),\n",
       " (0.6479219794273376, 'semi-good'),\n",
       " (0.6417751908302307, 'good.Good')]"
      ]
     },
     "execution_count": 96,
     "metadata": {},
     "output_type": "execute_result"
    }
   ],
   "source": [
    "# https://fasttext.cc/\n",
    "\n",
    "import fasttext # Most trending lightweight lib for custom word embedding using fasttext is the option than BERT.\n",
    "\n",
    "model_en = fasttext.load_model('C:\\\\Code\\\\nlp-tutorials\\\\downloads\\\\cc.en.300.bin')\n",
    "\n",
    "model_en.get_nearest_neighbors('good')"
   ]
  },
  {
   "cell_type": "code",
   "execution_count": null,
   "id": "e745e5de",
   "metadata": {},
   "outputs": [],
   "source": [
    "dir(model_en)"
   ]
  },
  {
   "cell_type": "code",
   "execution_count": 102,
   "id": "a7a15503",
   "metadata": {},
   "outputs": [
    {
     "data": {
      "text/plain": [
       "(300,)"
      ]
     },
     "execution_count": 102,
     "metadata": {},
     "output_type": "execute_result"
    }
   ],
   "source": [
    "model_en.get_word_vector(\"good\").shape"
   ]
  },
  {
   "cell_type": "code",
   "execution_count": 97,
   "id": "1de3bc3e",
   "metadata": {},
   "outputs": [
    {
     "data": {
      "text/plain": [
       "[(0.7303731441497803, 'paris'),\n",
       " (0.6408537030220032, 'france.'),\n",
       " (0.6393311023712158, 'avignon'),\n",
       " (0.6316676139831543, 'paris.'),\n",
       " (0.5895596742630005, 'montpellier'),\n",
       " (0.5884554386138916, 'rennes'),\n",
       " (0.5850598812103271, 'grenoble'),\n",
       " (0.5832924246788025, 'london'),\n",
       " (0.5806092619895935, 'strasbourg'),\n",
       " (0.574320375919342, 'Paris.')]"
      ]
     },
     "execution_count": 97,
     "metadata": {},
     "output_type": "execute_result"
    }
   ],
   "source": [
    "model_en.get_analogies(\"berlin\",\"germany\",\"france\")"
   ]
  },
  {
   "cell_type": "code",
   "execution_count": 104,
   "id": "874ae83b",
   "metadata": {},
   "outputs": [
    {
     "data": {
      "text/plain": [
       "[(0.7148876190185547, 'delhi'),\n",
       " (0.6974374055862427, 'mumbai'),\n",
       " (0.648612916469574, 'jaipur'),\n",
       " (0.6349966526031494, 'kolkata'),\n",
       " (0.6279922723770142, 'pune'),\n",
       " (0.6277596354484558, 'bangalore'),\n",
       " (0.6044078469276428, 'hyderabad'),\n",
       " (0.6021745800971985, 'noida'),\n",
       " (0.6018899083137512, 'bhubaneswar'),\n",
       " (0.599077582359314, 'nashik')]"
      ]
     },
     "execution_count": 104,
     "metadata": {},
     "output_type": "execute_result"
    }
   ],
   "source": [
    "model_en.get_analogies(\"berlin\",\"germany\",\"india\")"
   ]
  },
  {
   "cell_type": "code",
   "execution_count": 107,
   "id": "d617ad0e",
   "metadata": {},
   "outputs": [
    {
     "data": {
      "text/plain": [
       "[(0.610385537147522, 'texting'),\n",
       " (0.5203558802604675, 'phone-calling'),\n",
       " (0.5153835415840149, 'cellphone'),\n",
       " (0.5135326981544495, 'cell-phone'),\n",
       " (0.5117910504341125, 'dialing'),\n",
       " (0.5087355971336365, 'texing'),\n",
       " (0.5079342722892761, 'text-messaging'),\n",
       " (0.500900387763977, 'txting'),\n",
       " (0.4960441589355469, 'texting.'),\n",
       " (0.4951859414577484, 'Texting')]"
      ]
     },
     "execution_count": 107,
     "metadata": {},
     "output_type": "execute_result"
    }
   ],
   "source": [
    "model_en.get_analogies(\"driving\",\"car\",\"phone\")"
   ]
  },
  {
   "cell_type": "code",
   "execution_count": 108,
   "id": "59f8c719",
   "metadata": {},
   "outputs": [
    {
     "data": {
      "text/plain": [
       "[(0.5302355885505676, 'reading'),\n",
       " (0.517051637172699, 'book.I'),\n",
       " (0.5137901306152344, 'book--and'),\n",
       " (0.5090512633323669, 'book.That'),\n",
       " (0.5005884766578674, 'book--it'),\n",
       " (0.49395182728767395, 'book--I'),\n",
       " (0.49293914437294006, 're-reading'),\n",
       " (0.49156999588012695, 'book.This'),\n",
       " (0.49107635021209717, 'reading--and'),\n",
       " (0.48960915207862854, 'book--the')]"
      ]
     },
     "execution_count": 108,
     "metadata": {},
     "output_type": "execute_result"
    }
   ],
   "source": [
    "model_en.get_analogies(\"driving\",\"car\",\"book\")"
   ]
  },
  {
   "cell_type": "code",
   "execution_count": 100,
   "id": "a5e98313",
   "metadata": {},
   "outputs": [
    {
     "data": {
      "text/plain": [
       "[(0.8078702092170715, 'chutneys'),\n",
       " (0.7138292789459229, 'thokku'),\n",
       " (0.701572060585022, 'Chutney'),\n",
       " (0.6875490546226501, 'achaar'),\n",
       " (0.684525728225708, 'piccalilli'),\n",
       " (0.6737173199653625, 'raita'),\n",
       " (0.6715506911277771, 'chatni'),\n",
       " (0.6610829830169678, 'chutney.'),\n",
       " (0.6505922675132751, 'gojju'),\n",
       " (0.6398508548736572, 'kasundi')]"
      ]
     },
     "execution_count": 100,
     "metadata": {},
     "output_type": "execute_result"
    }
   ],
   "source": [
    "model_en.get_nearest_neighbors(\"chutney\")"
   ]
  },
  {
   "cell_type": "code",
   "execution_count": 113,
   "id": "041e928b",
   "metadata": {},
   "outputs": [
    {
     "data": {
      "text/plain": [
       "[(0.8563978672027588, 'kheer'),\n",
       " (0.8392286896705627, 'burfi'),\n",
       " (0.8193163871765137, 'Halwa'),\n",
       " (0.7894062995910645, 'kesari'),\n",
       " (0.778471827507019, 'payasam'),\n",
       " (0.7706475853919983, 'burfis'),\n",
       " (0.7590622901916504, 'laddoo'),\n",
       " (0.7504664659500122, 'ladoo'),\n",
       " (0.7471016645431519, 'rabdi'),\n",
       " (0.7396334409713745, 'laddu')]"
      ]
     },
     "execution_count": 113,
     "metadata": {},
     "output_type": "execute_result"
    }
   ],
   "source": [
    "model_en.get_nearest_neighbors(\"halwa\")"
   ]
  },
  {
   "cell_type": "code",
   "execution_count": 126,
   "id": "66f816ba",
   "metadata": {},
   "outputs": [
    {
     "data": {
      "text/plain": [
       "[(0.5384978652000427,\n",
       "  'ReportsTabloidCrimeYakuzaTokyoGinzaIkebukuroKabukichoRoppongiShibuyaShimbashiShinjukuUenoJapanChibaFukuokaKobeKyotoNagoyaOkinawaOsakaSaitamaYokohamaSportsBaseballHorse'),\n",
       " (0.5373231768608093,\n",
       "  'NoidaVaranasiBareillyMathuraAligarhMoradabadSaharanpurBijnorJaunpurGorakhpurMuzaffarnagarSultanpurDehradunHaridwarNainitalRoorkeeGarhwalBardhamanMurshidabadHooghlyMedinipurNorth'),\n",
       " (0.5331498980522156,\n",
       "  'NagarBhiwaniKarnalKurukshetraMahendragarhSirsaPanipatJindJhajjarRewariSolanShimlaKangraHamirpurMandiJammuSrinagarRanchiJamshedpurMangaloreMysoreBelgaumGulbargaTumkurBijapurDavanagereDharwadShimogaUdupiHassanBidarHubliKolarBagalkotKannadaChitradurgaMandyaGadagBellaryRaichurThiruvananthapuramThrissurErnakulamMalappuramKochiKottayamKannurKozhikodeKollamPalakkadPathanamthittaCalicutTrivandrumAlappuzhaKasaragodBhopalIndoreGwaliorJabalpurUjjainSagarChhatarpurPuneNagpurAurangabadNashikKolhapurAhmed')]"
      ]
     },
     "execution_count": 126,
     "metadata": {},
     "output_type": "execute_result"
    }
   ],
   "source": [
    "model_en.get_nearest_neighbors(\"saragva\", k=3) # Gives garbage because it was not trained on Indian recepies."
   ]
  },
  {
   "cell_type": "markdown",
   "id": "186c9e7b",
   "metadata": {},
   "source": [
    "##### (2) Explore Hindi Model"
   ]
  },
  {
   "cell_type": "code",
   "execution_count": 128,
   "id": "01b14f4c",
   "metadata": {},
   "outputs": [
    {
     "name": "stderr",
     "output_type": "stream",
     "text": [
      "Warning : `load_model` does not return WordVectorModel or SupervisedModel any more, but a `FastText` object which is very similar.\n"
     ]
    }
   ],
   "source": [
    "model_hi = fasttext.load_model('C:\\\\Code\\\\nlp-tutorials\\\\downloads\\\\cc.hi.300.bin')"
   ]
  },
  {
   "cell_type": "code",
   "execution_count": 129,
   "id": "673e0e80",
   "metadata": {},
   "outputs": [
    {
     "data": {
      "text/plain": [
       "[(0.6697985529899597, 'बुरा'),\n",
       " (0.6132625341415405, 'अच्छे'),\n",
       " (0.608695387840271, 'अच्चा'),\n",
       " (0.6058669090270996, 'अच्छाखासा'),\n",
       " (0.5848375558853149, 'कीअच्छा'),\n",
       " (0.5826330184936523, 'औरअच्छा'),\n",
       " (0.5811230540275574, 'हो.अच्छा'),\n",
       " (0.5805407762527466, 'हीअच्छा'),\n",
       " (0.5795978307723999, 'लगता'),\n",
       " (0.5777745246887207, '58अच्छा')]"
      ]
     },
     "execution_count": 129,
     "metadata": {},
     "output_type": "execute_result"
    }
   ],
   "source": [
    "model_hi.get_nearest_neighbors(\"अच्छा\")"
   ]
  },
  {
   "cell_type": "code",
   "execution_count": 134,
   "id": "921d7fcd",
   "metadata": {},
   "outputs": [
    {
     "data": {
      "text/plain": [
       "[(0.6485272645950317, 'गायों'),\n",
       " (0.6403631567955017, 'गोमाता'),\n",
       " (0.6264104247093201, 'बछड़े'),\n",
       " (0.6045769453048706, 'बछडे'),\n",
       " (0.6030024886131287, 'दुधारु'),\n",
       " (0.5880257487297058, 'भेंस'),\n",
       " (0.5822192430496216, 'भैंस'),\n",
       " (0.5819100737571716, 'दुधारू'),\n",
       " (0.5773836970329285, 'गौमाता'),\n",
       " (0.5771614909172058, 'गायें')]"
      ]
     },
     "execution_count": 134,
     "metadata": {},
     "output_type": "execute_result"
    }
   ],
   "source": [
    "model_hi.get_nearest_neighbors(\"गाय\")"
   ]
  },
  {
   "cell_type": "markdown",
   "id": "b287e393",
   "metadata": {},
   "source": [
    "## Custom train word embeddings on indian food receipes 😋\n",
    "\n",
    "dataset credits: https://www.kaggle.com/datasets/sooryaprakash12/cleaned-indian-recipes-dataset"
   ]
  },
  {
   "cell_type": "code",
   "execution_count": 60,
   "id": "2630f62a",
   "metadata": {},
   "outputs": [
    {
     "name": "stdout",
     "output_type": "stream",
     "text": [
      "(5938, 9)\n"
     ]
    },
    {
     "data": {
      "text/html": [
       "<div>\n",
       "<style scoped>\n",
       "    .dataframe tbody tr th:only-of-type {\n",
       "        vertical-align: middle;\n",
       "    }\n",
       "\n",
       "    .dataframe tbody tr th {\n",
       "        vertical-align: top;\n",
       "    }\n",
       "\n",
       "    .dataframe thead th {\n",
       "        text-align: right;\n",
       "    }\n",
       "</style>\n",
       "<table border=\"1\" class=\"dataframe\">\n",
       "  <thead>\n",
       "    <tr style=\"text-align: right;\">\n",
       "      <th></th>\n",
       "      <th>TranslatedRecipeName</th>\n",
       "      <th>TranslatedIngredients</th>\n",
       "      <th>TotalTimeInMins</th>\n",
       "      <th>Cuisine</th>\n",
       "      <th>TranslatedInstructions</th>\n",
       "      <th>URL</th>\n",
       "      <th>Cleaned-Ingredients</th>\n",
       "      <th>image-url</th>\n",
       "      <th>Ingredient-count</th>\n",
       "    </tr>\n",
       "  </thead>\n",
       "  <tbody>\n",
       "    <tr>\n",
       "      <th>0</th>\n",
       "      <td>Masala Karela Recipe</td>\n",
       "      <td>1 tablespoon Red Chilli powder,3 tablespoon Gr...</td>\n",
       "      <td>45</td>\n",
       "      <td>Indian</td>\n",
       "      <td>To begin making the Masala Karela Recipe,de-se...</td>\n",
       "      <td>https://www.archanaskitchen.com/masala-karela-...</td>\n",
       "      <td>salt,amchur (dry mango powder),karela (bitter ...</td>\n",
       "      <td>https://www.archanaskitchen.com/images/archana...</td>\n",
       "      <td>10</td>\n",
       "    </tr>\n",
       "    <tr>\n",
       "      <th>1</th>\n",
       "      <td>Spicy Tomato Rice (Recipe)</td>\n",
       "      <td>2 teaspoon cashew - or peanuts, 1/2 Teaspoon ...</td>\n",
       "      <td>15</td>\n",
       "      <td>South Indian Recipes</td>\n",
       "      <td>To make tomato puliogere, first cut the tomato...</td>\n",
       "      <td>https://www.archanaskitchen.com/spicy-tomato-r...</td>\n",
       "      <td>tomato,salt,chickpea lentils,green chilli,rice...</td>\n",
       "      <td>https://www.archanaskitchen.com/images/archana...</td>\n",
       "      <td>12</td>\n",
       "    </tr>\n",
       "    <tr>\n",
       "      <th>2</th>\n",
       "      <td>Ragi Semiya Upma Recipe - Ragi Millet Vermicel...</td>\n",
       "      <td>1 Onion - sliced,1 teaspoon White Urad Dal (Sp...</td>\n",
       "      <td>50</td>\n",
       "      <td>South Indian Recipes</td>\n",
       "      <td>To begin making the Ragi Vermicelli Recipe, fi...</td>\n",
       "      <td>https://www.archanaskitchen.com/ragi-vermicell...</td>\n",
       "      <td>salt,rice vermicelli noodles (thin),asafoetida...</td>\n",
       "      <td>https://www.archanaskitchen.com/images/archana...</td>\n",
       "      <td>12</td>\n",
       "    </tr>\n",
       "  </tbody>\n",
       "</table>\n",
       "</div>"
      ],
      "text/plain": [
       "                                TranslatedRecipeName  \\\n",
       "0                               Masala Karela Recipe   \n",
       "1                         Spicy Tomato Rice (Recipe)   \n",
       "2  Ragi Semiya Upma Recipe - Ragi Millet Vermicel...   \n",
       "\n",
       "                               TranslatedIngredients  TotalTimeInMins  \\\n",
       "0  1 tablespoon Red Chilli powder,3 tablespoon Gr...               45   \n",
       "1   2 teaspoon cashew - or peanuts, 1/2 Teaspoon ...               15   \n",
       "2  1 Onion - sliced,1 teaspoon White Urad Dal (Sp...               50   \n",
       "\n",
       "                Cuisine                             TranslatedInstructions  \\\n",
       "0                Indian  To begin making the Masala Karela Recipe,de-se...   \n",
       "1  South Indian Recipes  To make tomato puliogere, first cut the tomato...   \n",
       "2  South Indian Recipes  To begin making the Ragi Vermicelli Recipe, fi...   \n",
       "\n",
       "                                                 URL  \\\n",
       "0  https://www.archanaskitchen.com/masala-karela-...   \n",
       "1  https://www.archanaskitchen.com/spicy-tomato-r...   \n",
       "2  https://www.archanaskitchen.com/ragi-vermicell...   \n",
       "\n",
       "                                 Cleaned-Ingredients  \\\n",
       "0  salt,amchur (dry mango powder),karela (bitter ...   \n",
       "1  tomato,salt,chickpea lentils,green chilli,rice...   \n",
       "2  salt,rice vermicelli noodles (thin),asafoetida...   \n",
       "\n",
       "                                           image-url  Ingredient-count  \n",
       "0  https://www.archanaskitchen.com/images/archana...                10  \n",
       "1  https://www.archanaskitchen.com/images/archana...                12  \n",
       "2  https://www.archanaskitchen.com/images/archana...                12  "
      ]
     },
     "execution_count": 60,
     "metadata": {},
     "output_type": "execute_result"
    }
   ],
   "source": [
    "import pandas as pd\n",
    "\n",
    "df = pd.read_csv(\"Cleaned_Indian_Food_Dataset.csv\")\n",
    "print(df.shape)\n",
    "df.head(3)"
   ]
  },
  {
   "cell_type": "code",
   "execution_count": 61,
   "id": "7ff79015",
   "metadata": {},
   "outputs": [
    {
     "data": {
      "text/plain": [
       "'To begin making the Masala Karela Recipe,de-seed the karela and slice.\\nDo not remove the skin as the skin has all the nutrients.\\nAdd the karela to the pressure cooker with 3 tablespoon of water, salt and turmeric powder and pressure cook for three whistles.\\nRelease the pressure immediately and open the lids.\\nKeep aside.Heat oil in a heavy bottomed pan or a kadhai.\\nAdd cumin seeds and let it sizzle.Once the cumin seeds have sizzled, add onions and saute them till it turns golden brown in color.Add the karela, red chilli powder, amchur powder, coriander powder and besan.\\nStir to combine the masalas into the karela.Drizzle a little extra oil on the top and mix again.\\nCover the pan and simmer Masala Karela stirring occasionally until everything comes together well.\\nTurn off the heat.Transfer Masala Karela into a serving bowl and serve.Serve Masala Karela along with Panchmel Dal and Phulka for a weekday meal with your family.\\n'"
      ]
     },
     "execution_count": 61,
     "metadata": {},
     "output_type": "execute_result"
    }
   ],
   "source": [
    "df.TranslatedInstructions[0]"
   ]
  },
  {
   "cell_type": "code",
   "execution_count": 36,
   "id": "4b6e8ebc",
   "metadata": {},
   "outputs": [
    {
     "data": {
      "text/plain": [
       "'To begin making the Masala Karela Recipe de seed the karela and slice \\nDo not remove the skin as the skin has all the nutrients \\nAdd the karela to the pressure cooker with 3 tablespoon of water  salt and turmeric powder and pressure cook for three whistles \\nRelease the pressure immediately and open the lids \\nKeep aside Heat oil in a heavy bottomed pan or a kadhai \\nAdd cumin seeds and let it sizzle Once the cumin seeds have sizzled  add onions and saute them till it turns golden brown in color Add the karela  red chilli powder  amchur powder  coriander powder and besan \\nStir to combine the masalas into the karela Drizzle a little extra oil on the top and mix again \\nCover the pan and simmer Masala Karela stirring occasionally until everything comes together well \\nTurn off the heat Transfer Masala Karela into a serving bowl and serve Serve Masala Karela along with Panchmel Dal and Phulka for a weekday meal with your family \\n'"
      ]
     },
     "execution_count": 36,
     "metadata": {},
     "output_type": "execute_result"
    }
   ],
   "source": [
    "import re # Text preprocessing using regx\n",
    "\n",
    "text = 'To begin making the Masala Karela Recipe,de-seed the karela and slice.\\nDo not remove the skin as the skin has all the nutrients.\\nAdd the karela to the pressure cooker with 3 tablespoon of water, salt and turmeric powder and pressure cook for three whistles.\\nRelease the pressure immediately and open the lids.\\nKeep aside.Heat oil in a heavy bottomed pan or a kadhai.\\nAdd cumin seeds and let it sizzle.Once the cumin seeds have sizzled, add onions and saute them till it turns golden brown in color.Add the karela, red chilli powder, amchur powder, coriander powder and besan.\\nStir to combine the masalas into the karela.Drizzle a little extra oil on the top and mix again.\\nCover the pan and simmer Masala Karela stirring occasionally until everything comes together well.\\nTurn off the heat.Transfer Masala Karela into a serving bowl and serve.Serve Masala Karela along with Panchmel Dal and Phulka for a weekday meal with your family.\\n'\n",
    "\n",
    "re.sub(r\"[^\\w\\s]\", \" \", text, flags=re.MULTILINE) # Anything that is not a word or a space is removed and replaced by space."
   ]
  },
  {
   "cell_type": "code",
   "execution_count": 62,
   "id": "4ea1873a",
   "metadata": {},
   "outputs": [],
   "source": [
    "def preprocess(text):\n",
    "    text = re.sub(r'[^\\w\\s\\']',' ', text)\n",
    "    text = re.sub(r'[ \\n]+', ' ', text) # Whenever there is one or more occurences of spaces and \\n i.e it is replaced by a single space.\n",
    "    return text.strip().lower() # Strip removes leading and trailing spaces. lower converts it to lower."
   ]
  },
  {
   "cell_type": "code",
   "execution_count": 55,
   "id": "c6c0b732",
   "metadata": {
    "scrolled": true
   },
   "outputs": [
    {
     "data": {
      "text/plain": [
       "'to begin making the masala karela recipe de seed the karela and slice do not remove the skin as the skin has all the nutrients add the karela to the pressure cooker with 3 tablespoon of water salt and turmeric powder and pressure cook for three whistles release the pressure immediately and open the lids keep aside heat oil in a heavy bottomed pan or a kadhai add cumin seeds and let it sizzle once the cumin seeds have sizzled add onions and saute them till it turns golden brown in color add the karela red chilli powder amchur powder coriander powder and besan stir to combine the masalas into the karela drizzle a little extra oil on the top and mix again cover the pan and simmer masala karela stirring occasionally until everything comes together well turn off the heat transfer masala karela into a serving bowl and serve serve masala karela along with panchmel dal and phulka for a weekday meal with your family'"
      ]
     },
     "execution_count": 55,
     "metadata": {},
     "output_type": "execute_result"
    }
   ],
   "source": [
    "text = 'To begin making the Masala Karela Recipe,de-seed the karela and slice.\\nDo not remove the skin as the skin has all the nutrients.\\nAdd the karela to the pressure cooker with 3 tablespoon of water, salt and turmeric powder and pressure cook for three whistles.\\nRelease the pressure immediately and open the lids.\\nKeep aside.Heat oil in a heavy bottomed pan or a kadhai.\\nAdd cumin seeds and let it sizzle.Once the cumin seeds have sizzled, add onions and saute them till it turns golden brown in color.Add the karela, red chilli powder, amchur powder, coriander powder and besan.\\nStir to combine the masalas into the karela.Drizzle a little extra oil on the top and mix again.\\nCover the pan and simmer Masala Karela stirring occasionally until everything comes together well.\\nTurn off the heat.Transfer Masala Karela into a serving bowl and serve.Serve Masala Karela along with Panchmel Dal and Phulka for a weekday meal with your family.\\n'\n",
    "\n",
    "preprocess(text)"
   ]
  },
  {
   "cell_type": "code",
   "execution_count": 65,
   "id": "c9310abd",
   "metadata": {},
   "outputs": [],
   "source": [
    "df.TranslatedInstructions = df.TranslatedInstructions.map(preprocess)"
   ]
  },
  {
   "cell_type": "code",
   "execution_count": 66,
   "id": "f234531f",
   "metadata": {},
   "outputs": [
    {
     "data": {
      "text/plain": [
       "'to begin making the masala karela recipe de seed the karela and slice do not remove the skin as the skin has all the nutrients add the karela to the pressure cooker with 3 tablespoon of water salt and turmeric powder and pressure cook for three whistles release the pressure immediately and open the lids keep aside heat oil in a heavy bottomed pan or a kadhai add cumin seeds and let it sizzle once the cumin seeds have sizzled add onions and saute them till it turns golden brown in color add the karela red chilli powder amchur powder coriander powder and besan stir to combine the masalas into the karela drizzle a little extra oil on the top and mix again cover the pan and simmer masala karela stirring occasionally until everything comes together well turn off the heat transfer masala karela into a serving bowl and serve serve masala karela along with panchmel dal and phulka for a weekday meal with your family'"
      ]
     },
     "execution_count": 66,
     "metadata": {},
     "output_type": "execute_result"
    }
   ],
   "source": [
    "df.TranslatedInstructions[0] # Cleaned text."
   ]
  },
  {
   "cell_type": "code",
   "execution_count": 67,
   "id": "b0ee507b",
   "metadata": {},
   "outputs": [],
   "source": [
    "df.to_csv(\"food_receipes.txt\", columns=[\"TranslatedInstructions\"], header=None, index=False) # Translated and preprossed section is exported to the text file."
   ]
  },
  {
   "cell_type": "code",
   "execution_count": 68,
   "id": "fae5ac1c",
   "metadata": {},
   "outputs": [],
   "source": [
    "import fasttext\n",
    "\n",
    "model = fasttext.train_unsupervised(\"food_receipes.txt\") # method train unsuperwised."
   ]
  },
  {
   "cell_type": "code",
   "execution_count": 77,
   "id": "84debf5a",
   "metadata": {
    "scrolled": true
   },
   "outputs": [
    {
     "data": {
      "text/plain": [
       "[(0.6676578521728516, 'tikka'),\n",
       " (0.6331593990325928, 'bhurji'),\n",
       " (0.6316412687301636, 'tikkas'),\n",
       " (0.6094192266464233, 'shashlik'),\n",
       " (0.6074358820915222, 'tandoori'),\n",
       " (0.5913100838661194, 'nawabi'),\n",
       " (0.5770578384399414, 'makhanwala'),\n",
       " (0.5679370760917664, 'makhane'),\n",
       " (0.5651180744171143, 'satay'),\n",
       " (0.5571504235267639, 'matzo')]"
      ]
     },
     "execution_count": 77,
     "metadata": {},
     "output_type": "execute_result"
    }
   ],
   "source": [
    "model.get_nearest_neighbors(\"paneer\")"
   ]
  },
  {
   "cell_type": "code",
   "execution_count": 81,
   "id": "f936a8bf",
   "metadata": {},
   "outputs": [
    {
     "data": {
      "text/plain": [
       "[(0.9504611492156982, 'chutneys'),\n",
       " (0.7339446544647217, 'imli'),\n",
       " (0.7242112755775452, 'dhaniya'),\n",
       " (0.7055650353431702, 'pudina'),\n",
       " (0.6984171271324158, 'khajur'),\n",
       " (0.6709029674530029, 'mavinakayi'),\n",
       " (0.6576716303825378, 'ratalu'),\n",
       " (0.6567045450210571, 'heerekai'),\n",
       " (0.6536096334457397, 'pudi'),\n",
       " (0.6535494327545166, 'gothsu')]"
      ]
     },
     "execution_count": 81,
     "metadata": {},
     "output_type": "execute_result"
    }
   ],
   "source": [
    "model.get_nearest_neighbors(\"chutney\") # correct nearest neighbours."
   ]
  },
  {
   "cell_type": "code",
   "execution_count": 83,
   "id": "fb75dcf0",
   "metadata": {},
   "outputs": [
    {
     "data": {
      "text/plain": [
       "[(0.7327786087989807, 'khoya'),\n",
       " (0.7155830264091492, 'sheera'),\n",
       " (0.6999987363815308, 'rabri'),\n",
       " (0.6987040638923645, 'burfi'),\n",
       " (0.6768929958343506, 'badam'),\n",
       " (0.6665166020393372, 'kesari'),\n",
       " (0.6663287281990051, 'kheer'),\n",
       " (0.664326548576355, 'mawa'),\n",
       " (0.6490095853805542, 'halbai'),\n",
       " (0.6289424896240234, 'mohan')]"
      ]
     },
     "execution_count": 83,
     "metadata": {},
     "output_type": "execute_result"
    }
   ],
   "source": [
    "model.get_nearest_neighbors(\"halwa\")"
   ]
  },
  {
   "cell_type": "code",
   "execution_count": 86,
   "id": "79ad1c5f",
   "metadata": {},
   "outputs": [
    {
     "data": {
      "text/plain": [
       "[(0.8565618991851807, 'dosai'),\n",
       " (0.8131380081176758, 'dosas'),\n",
       " (0.7716724276542664, \"dosa's\"),\n",
       " (0.7011599540710449, 'uttapam'),\n",
       " (0.6958349347114563, 'chembaruthi'),\n",
       " (0.6922599673271179, 'dose'),\n",
       " (0.6917827129364014, 'neer'),\n",
       " (0.6860083937644958, 'uthappam'),\n",
       " (0.6539950370788574, 'idli'),\n",
       " (0.6535670161247253, 'appachetty')]"
      ]
     },
     "execution_count": 86,
     "metadata": {},
     "output_type": "execute_result"
    }
   ],
   "source": [
    "model.get_nearest_neighbors(\"dosa\") # Dosa close words given perfectly."
   ]
  },
  {
   "cell_type": "code",
   "execution_count": 87,
   "id": "617f1a48",
   "metadata": {
    "scrolled": true
   },
   "outputs": [
    {
     "data": {
      "text/plain": [
       "[(0.7523265480995178, 'dal'),\n",
       " (0.7234242558479309, 'sprouted'),\n",
       " (0.6893743872642517, 'mooga'),\n",
       " (0.682951033115387, 'moongphali'),\n",
       " (0.6707783341407776, 'dalma'),\n",
       " (0.6571015119552612, 'moth'),\n",
       " (0.6407501697540283, 'phanna'),\n",
       " (0.6342118978500366, 'sprouts'),\n",
       " (0.631661593914032, 'dals'),\n",
       " (0.629382848739624, 'daliya')]"
      ]
     },
     "execution_count": 87,
     "metadata": {},
     "output_type": "execute_result"
    }
   ],
   "source": [
    "model.get_nearest_neighbors(\"moong\")"
   ]
  },
  {
   "cell_type": "code",
   "execution_count": 93,
   "id": "71852e1c",
   "metadata": {},
   "outputs": [
    {
     "data": {
      "text/plain": [
       "(100,)"
      ]
     },
     "execution_count": 93,
     "metadata": {},
     "output_type": "execute_result"
    }
   ],
   "source": [
    "model.get_word_vector(\"dosa\").shape"
   ]
  },
  {
   "cell_type": "code",
   "execution_count": 124,
   "id": "924e3d8d",
   "metadata": {
    "scrolled": true
   },
   "outputs": [
    {
     "data": {
      "text/plain": [
       "[(0.849528968334198, 'agathi'),\n",
       " (0.8434577584266663, 'fansi'),\n",
       " (0.8286634683609009, 'shaak'),\n",
       " (0.8236896395683289, 'kulith'),\n",
       " (0.8191390633583069, 'veetu'),\n",
       " (0.816569447517395, 'masiyal'),\n",
       " (0.8142441511154175, 'mulangi'),\n",
       " (0.8140149116516113, 'kumani'),\n",
       " (0.8116310238838196, 'mulakushyam'),\n",
       " (0.8095227479934692, 'pasi')]"
      ]
     },
     "execution_count": 124,
     "metadata": {},
     "output_type": "execute_result"
    }
   ],
   "source": [
    "model.get_nearest_neighbors(\"saragva\")"
   ]
  },
  {
   "cell_type": "markdown",
   "id": "c129a44a-b949-4b6c-a87e-cfd859495d52",
   "metadata": {},
   "source": [
    "There are various parameters of fasttext to explore check the documentation."
   ]
  },
  {
   "cell_type": "markdown",
   "id": "5b0b7e80",
   "metadata": {},
   "source": [
    "https://fasttext.cc/docs/en/unsupervised-tutorial.html for details on parameters in train_unsupervised function. Based on the need one can use following parameters for fine tunning,\n",
    "\n",
    "1. epochs = Default value is 5. Epoch is how many times it will loop over the same dataset for the training\n",
    "2. lr = Learning rate\n",
    "3. thread = Number of threads for the training"
   ]
  }
 ],
 "metadata": {
  "kernelspec": {
   "display_name": "Python 3 (ipykernel)",
   "language": "python",
   "name": "python3"
  },
  "language_info": {
   "codemirror_mode": {
    "name": "ipython",
    "version": 3
   },
   "file_extension": ".py",
   "mimetype": "text/x-python",
   "name": "python",
   "nbconvert_exporter": "python",
   "pygments_lexer": "ipython3",
   "version": "3.11.5"
  }
 },
 "nbformat": 4,
 "nbformat_minor": 5
}
